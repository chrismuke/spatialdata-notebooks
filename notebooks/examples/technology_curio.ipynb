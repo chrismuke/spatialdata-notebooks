{
 "cells": [
  {
   "attachments": {},
   "cell_type": "markdown",
   "metadata": {},
   "source": [
    "# Technology focus: Curio Seeker\n",
    "This notebook will present a rough overview of the plotting functionalities that `spatialdata` implements for Curio Seeker data."
   ]
  },
  {
   "attachments": {},
   "cell_type": "markdown",
   "metadata": {},
   "source": [
    "## Loading the data\n",
    "Instructions on how to obtain Curio data [can be found here](https://github.com/giovp/spatialdata-sandbox/blob/main/curio_io/). Then, please use the `to_zarr.py` file to convert the raw data to Zarr.\n",
    "\n",
    "Outputs are omitted from this notebook as, at the time of writing this notebook, the data is not public."
   ]
  },
  {
   "cell_type": "code",
   "execution_count": null,
   "metadata": {},
   "outputs": [],
   "source": [
    "# please use symlinks or copy the data to make this path available\n",
    "curio_zarr_path = \"./curio.zarr\""
   ]
  },
  {
   "cell_type": "code",
   "execution_count": null,
   "metadata": {},
   "outputs": [],
   "source": [
    "import spatialdata as sd\n",
    "\n",
    "curio_sdata = sd.read_zarr(curio_zarr_path)\n",
    "curio_sdata"
   ]
  },
  {
   "attachments": {},
   "cell_type": "markdown",
   "metadata": {},
   "source": [
    "## Visualise the data\n",
    "We are going to visualize gene expression and cluster assignments on top of the circular capture locations (beads). For this, we need to load the `spatialdata_plot` library which extends the `sd.SpatialData` object with the `.pl` module. "
   ]
  },
  {
   "cell_type": "code",
   "execution_count": null,
   "metadata": {},
   "outputs": [],
   "source": [
    "import spatialdata_plot\n",
    "\n",
    "curio_sdata.table.to_df().sum(axis=0).sort_values(ascending=False).head(10)\n",
    "# We will select some of the highly expressed genes for this example"
   ]
  },
  {
   "attachments": {},
   "cell_type": "markdown",
   "metadata": {},
   "source": [
    "Furthermore, we will transform the values with `np.log1p` for better readability."
   ]
  },
  {
   "cell_type": "markdown",
   "metadata": {},
   "source": [
    "### Gene expression"
   ]
  },
  {
   "cell_type": "code",
   "execution_count": null,
   "metadata": {},
   "outputs": [],
   "source": [
    "gene_names = curio_sdata[\"table\"].var_names[[120, 12312, 15099]].tolist()\n",
    "gene_names"
   ]
  },
  {
   "cell_type": "code",
   "execution_count": null,
   "metadata": {},
   "outputs": [],
   "source": [
    "import numpy as np\n",
    "\n",
    "curio_sdata.pl.render_shapes(color=gene_names[0], transfunc=np.log1p).pl.show()"
   ]
  },
  {
   "cell_type": "markdown",
   "metadata": {},
   "source": [
    "### Cluster assignment"
   ]
  },
  {
   "cell_type": "code",
   "execution_count": null,
   "metadata": {},
   "outputs": [],
   "source": [
    "curio_sdata.pl.render_shapes(color=\"cluster\").pl.show()"
   ]
  },
  {
   "attachments": {},
   "cell_type": "markdown",
   "metadata": {},
   "source": [
    "We can also provide `ax` objects to `spatialdata_plot` for further customisation."
   ]
  },
  {
   "cell_type": "code",
   "execution_count": null,
   "metadata": {},
   "outputs": [],
   "source": [
    "import matplotlib.pyplot as plt\n",
    "\n",
    "fig, axs = plt.subplots(ncols=3, nrows=1, figsize=(12, 3))\n",
    "\n",
    "curio_sdata.pl.render_shapes(color=gene_names[0], transfunc=np.log1p).pl.show(ax=axs[0], title=gene_names[0])\n",
    "\n",
    "curio_sdata.pl.render_shapes(color=gene_names[1], transfunc=np.log1p).pl.show(ax=axs[1], title=gene_names[1])\n",
    "\n",
    "curio_sdata.pl.render_shapes(color=gene_names[2], transfunc=np.log1p).pl.show(ax=axs[2], title=gene_names[2])\n",
    "\n",
    "plt.tight_layout()"
   ]
  }
 ],
 "metadata": {
  "kernelspec": {
   "display_name": "Python 3 (ipykernel)",
   "language": "python",
   "name": "python3"
  },
  "language_info": {
   "codemirror_mode": {
    "name": "ipython",
    "version": 3
   },
   "file_extension": ".py",
   "mimetype": "text/x-python",
   "name": "python",
   "nbconvert_exporter": "python",
   "pygments_lexer": "ipython3",
   "version": "3.10.13"
  },
  "vscode": {
   "interpreter": {
    "hash": "830f4db94a7e048b072d559f6337879e869a5f16cc1fbf14c7dab0d06a5037ae"
   }
  }
 },
 "nbformat": 4,
 "nbformat_minor": 4
}
