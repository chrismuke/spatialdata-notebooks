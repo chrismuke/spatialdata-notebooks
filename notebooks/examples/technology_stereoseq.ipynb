{
 "cells": [
  {
   "cell_type": "markdown",
   "id": "855639a9-eb21-4002-ad44-2c244e26ef3f",
   "metadata": {},
   "source": [
    "# Technology focus: Stereo-seq"
   ]
  },
  {
   "cell_type": "markdown",
   "id": "17b4bf13-817d-41a9-9f72-8bd5b3e81341",
   "metadata": {},
   "source": [
    "Note: this notebook is currently uploaded without plots because it is run on non-public data."
   ]
  },
  {
   "cell_type": "code",
   "execution_count": null,
   "id": "8cff374b-c384-4ee6-97a7-e58f45dea9e0",
   "metadata": {},
   "outputs": [],
   "source": [
    "%load_ext jupyter_black\n",
    "%load_ext autoreload\n",
    "%autoreload 2"
   ]
  },
  {
   "cell_type": "code",
   "execution_count": null,
   "id": "ace074eb-3c15-4b16-a62c-74678aecaa09",
   "metadata": {},
   "outputs": [],
   "source": [
    "import os"
   ]
  },
  {
   "cell_type": "markdown",
   "id": "8cb39699-34c1-4b3b-802b-d5fb82eb762e",
   "metadata": {},
   "source": [
    "## Loading the data"
   ]
  },
  {
   "cell_type": "markdown",
   "id": "5193d21b-da0e-4040-880d-a848d4904578",
   "metadata": {},
   "source": [
    "We use the reader `stereoseq()` from `spatialdata-io` to parse the data."
   ]
  },
  {
   "cell_type": "code",
   "execution_count": null,
   "id": "19314cc9-c082-4485-9204-fa358ea182b1",
   "metadata": {},
   "outputs": [],
   "source": [
    "WRITE = True\n",
    "WRITE = False"
   ]
  },
  {
   "cell_type": "code",
   "execution_count": null,
   "id": "26a187a1-7c69-4603-954a-d247807b53fb",
   "metadata": {},
   "outputs": [],
   "source": [
    "from spatialdata_io import stereoseq\n",
    "\n",
    "# the data is not currently public\n",
    "stereoseq_data_path = \"stereoseq_data/pipeline output/result\"\n",
    "assert os.path.exists(stereoseq_data_path)\n",
    "\n",
    "if WRITE:\n",
    "    sdata = stereoseq(stereoseq_data_path)\n",
    "    sdata"
   ]
  },
  {
   "cell_type": "markdown",
   "id": "4ae3ef54-cca4-4aab-b77f-e5075af20379",
   "metadata": {},
   "source": [
    "Let's save the data to Zarr and reload it (so that the data is accessed performantly)."
   ]
  },
  {
   "cell_type": "code",
   "execution_count": null,
   "id": "3fcbf7be-d071-41b8-a765-abe4b42d6aef",
   "metadata": {},
   "outputs": [],
   "source": [
    "import shutil\n",
    "\n",
    "import spatialdata as sd\n",
    "\n",
    "output_data_path = \"stereoseq_data/data.zarr\"\n",
    "\n",
    "if WRITE:\n",
    "    # please use rmtree with care\n",
    "    if os.path.isdir(output_data_path):\n",
    "        shutil.rmtree(output_data_path)\n",
    "\n",
    "    sdata.write(output_data_path)\n",
    "\n",
    "sdata = sd.read_zarr(output_data_path)"
   ]
  },
  {
   "cell_type": "markdown",
   "id": "187cbf41-c889-4f62-80e3-2dfd0227fc2b",
   "metadata": {},
   "source": [
    "## Plotting the images"
   ]
  },
  {
   "cell_type": "code",
   "execution_count": null,
   "id": "b0f41c02-baaf-4bc8-af41-7983e8f1e318",
   "metadata": {},
   "outputs": [],
   "source": [
    "import spatialdata_plot"
   ]
  },
  {
   "cell_type": "code",
   "execution_count": null,
   "id": "8b148641-6f62-41e5-87a6-fda5d09af776",
   "metadata": {},
   "outputs": [],
   "source": [
    "sdata.pl.render_images(\"ssDNA_C01337B3_regist\").pl.show()"
   ]
  },
  {
   "cell_type": "markdown",
   "id": "71905c33-627c-49d9-aa67-d3eefe22a2e3",
   "metadata": {},
   "source": [
    "Let's introduce a lambda function for defining a lazy crop of the image data; we will use it to plot a subset of the data."
   ]
  },
  {
   "cell_type": "code",
   "execution_count": null,
   "id": "8080ed82-113a-46c5-85a0-007dea14a6d4",
   "metadata": {},
   "outputs": [],
   "source": [
    "images_names = list(sdata.images.keys())\n",
    "images_names"
   ]
  },
  {
   "cell_type": "code",
   "execution_count": null,
   "id": "ee0c1ea4-b8ba-48ea-aab6-996588921e85",
   "metadata": {},
   "outputs": [],
   "source": [
    "crop = lambda sdata: sd.bounding_box_query(\n",
    "    # let's subset the data to consider only the images since we are going to plot only them\n",
    "    sdata.subset(images_names),\n",
    "    min_coordinate=[9000, 11000],\n",
    "    max_coordinate=[10000, 12000],\n",
    "    axes=(\"x\", \"y\"),\n",
    "    target_coordinate_system=\"global\",\n",
    ")"
   ]
  },
  {
   "cell_type": "code",
   "execution_count": null,
   "id": "eb045e6f-78aa-4b5e-af18-dcfb99c1a864",
   "metadata": {},
   "outputs": [],
   "source": [
    "crop(sdata).pl.render_images(\"ssDNA_C01337B3_regist\").pl.show()"
   ]
  },
  {
   "cell_type": "code",
   "execution_count": null,
   "id": "cb145a3b-c827-4eef-ac4b-581962f35df1",
   "metadata": {},
   "outputs": [],
   "source": [
    "crop(sdata).pl.render_images(\"ssDNA_C01337B3_mask\").pl.show()"
   ]
  },
  {
   "cell_type": "markdown",
   "id": "e28c3e62-8048-4646-8d1b-176716078be9",
   "metadata": {},
   "source": [
    "## Plotting the cell expression data"
   ]
  },
  {
   "cell_type": "markdown",
   "id": "154a5bb8-979a-4157-af8b-c0e4d0bac108",
   "metadata": {},
   "source": [
    "The cell geometries are stored in `sdata.shapes['cells_polygons']`; and approximations of them as circles is stored in `sdata.shapes['cells_circles']`.\n",
    "\n",
    "The cell gene expression data is stored in the associated table `sdata.tables['cells_table']`."
   ]
  },
  {
   "cell_type": "markdown",
   "id": "68aaf06c-1334-42bc-9631-b27821a88543",
   "metadata": {},
   "source": [
    "Let's have a look at the table."
   ]
  },
  {
   "cell_type": "code",
   "execution_count": null,
   "id": "05451638-badf-4b18-a202-af781f3f0abb",
   "metadata": {},
   "outputs": [],
   "source": [
    "sdata[\"cells_table\"]"
   ]
  },
  {
   "cell_type": "code",
   "execution_count": null,
   "id": "2008f225-3514-4d7f-8919-e3c3089e4685",
   "metadata": {},
   "outputs": [],
   "source": [
    "import matplotlib.pyplot as plt\n",
    "\n",
    "plt.style.use(\"dark_background\")\n",
    "sdata.pl.render_shapes(\"cells_circles\", color=\"clusterID\").pl.show()\n",
    "plt.style.use(\"default\")"
   ]
  },
  {
   "cell_type": "code",
   "execution_count": null,
   "id": "b87e81b6-3843-468a-a18b-fc680ce6cd89",
   "metadata": {},
   "outputs": [],
   "source": [
    "sdata_crop = sd.bounding_box_query(\n",
    "    sdata,\n",
    "    min_coordinate=[9000, 11000],\n",
    "    max_coordinate=[10000, 12000],\n",
    "    axes=(\"x\", \"y\"),\n",
    "    target_coordinate_system=\"global\",\n",
    ")"
   ]
  },
  {
   "cell_type": "code",
   "execution_count": null,
   "id": "d7649817-524a-4fec-a452-9d4f30854dd6",
   "metadata": {},
   "outputs": [],
   "source": [
    "plt.style.use(\"dark_background\")\n",
    "sdata_crop.pl.render_shapes(\"cells_circles\", color=\"clusterID\").pl.show()\n",
    "plt.style.use(\"default\")"
   ]
  },
  {
   "cell_type": "markdown",
   "id": "116fdf63-7b78-4158-a7c0-ae248d1ba970",
   "metadata": {},
   "source": [
    "To render the cells shapes we need first to assign the table to the shapes object."
   ]
  },
  {
   "cell_type": "code",
   "execution_count": null,
   "id": "76ed345d-63e0-4a8f-ab6a-4392f0ddda2e",
   "metadata": {},
   "outputs": [],
   "source": [
    "sdata_crop[\"cells_table\"].obs[\"region\"] = \"cells_polygons\"\n",
    "sdata_crop[\"cells_table\"].obs[\"region\"] = sdata_crop[\"cells_table\"].obs[\"region\"].astype(\"category\")\n",
    "sdata_crop.set_table_annotates_spatialelement(\"cells_table\", \"cells_polygons\")"
   ]
  },
  {
   "cell_type": "code",
   "execution_count": null,
   "id": "aa875997-3ba6-4763-a6a1-316018e81646",
   "metadata": {},
   "outputs": [],
   "source": [
    "# can't make this plot because of this bug: https://github.com/scverse/spatialdata-plot/issues/266\n",
    "sdata_crop.pl.render_shapes(\"cells_polygons\", color=\"clusterID\").pl.show()"
   ]
  },
  {
   "cell_type": "markdown",
   "id": "d8f25656-e803-4f9f-a1f8-4d54ce0f9f0c",
   "metadata": {},
   "source": [
    "## Plotting the bin data"
   ]
  },
  {
   "cell_type": "markdown",
   "id": "a57c058c-2a0e-4d85-b12a-04fcda1cfa02",
   "metadata": {},
   "source": [
    "The object also contains the binned gene expression data at various resolutions (subcellular and supercellular). For each bins we store both the geometries (e.g. `sdata.points['bin20_genes']`) and the binned gene expression (e.g. `sdata.tables['bin20_table']`).\n",
    "\n",
    "Note that even if the bin geometries should be represented as squares (=shapes element), we use points for performance reasons as the data is very large. The user can easily construct a shapes element from the points element if needed."
   ]
  },
  {
   "cell_type": "markdown",
   "id": "4f5afea2-df7a-4b3c-9e89-8e165d396595",
   "metadata": {},
   "source": [
    "Let's explore one of the the bin annotation table."
   ]
  },
  {
   "cell_type": "code",
   "execution_count": null,
   "id": "1f81368c-7cdc-4741-9dff-b0a5293989dd",
   "metadata": {},
   "outputs": [],
   "source": [
    "sdata[\"bin20_table\"]"
   ]
  },
  {
   "cell_type": "code",
   "execution_count": null,
   "id": "dd52e633-4f5a-44c7-85e5-ed91f6c27c35",
   "metadata": {},
   "outputs": [],
   "source": [
    "sdata[\"bin20_table\"].var_names"
   ]
  },
  {
   "cell_type": "code",
   "execution_count": null,
   "id": "143844e6-2ce7-42f8-8ae0-2d6e7524723e",
   "metadata": {},
   "outputs": [],
   "source": [
    "gene = \"0610010K14Rik\""
   ]
  },
  {
   "cell_type": "code",
   "execution_count": null,
   "id": "ad66088d-f83f-4b09-acac-762c0b8fd7e3",
   "metadata": {},
   "outputs": [],
   "source": [
    "# bug: cropping points doesn't filter the associated table\n",
    "# https://github.com/scverse/spatialdata/issues/567\n",
    "# let's have a workaround for this\n",
    "\n",
    "sdata_crop[\"bin20_table\"] = sdata[\"bin20_table\"]\n",
    "queried_points = sdata_crop[\"bin20_genes\"].index.compute()\n",
    "sdata_crop[\"bin20_table\"] = sdata_crop[\"bin20_table\"][queried_points].copy()"
   ]
  },
  {
   "cell_type": "code",
   "execution_count": null,
   "id": "ebc2dd87-d707-4619-a7a4-cf58faf3e272",
   "metadata": {},
   "outputs": [],
   "source": [
    "# can't make this plot because of this bug: https://github.com/scverse/spatialdata-plot/issues/265\n",
    "sdata_crop.pl.render_points(\"bin20_genes\", color=gene).pl.show()"
   ]
  }
 ],
 "metadata": {
  "kernelspec": {
   "display_name": "Python 3 (ipykernel)",
   "language": "python",
   "name": "python3"
  },
  "language_info": {
   "codemirror_mode": {
    "name": "ipython",
    "version": 3
   },
   "file_extension": ".py",
   "mimetype": "text/x-python",
   "name": "python",
   "nbconvert_exporter": "python",
   "pygments_lexer": "ipython3",
   "version": "3.10.13"
  }
 },
 "nbformat": 4,
 "nbformat_minor": 5
}
