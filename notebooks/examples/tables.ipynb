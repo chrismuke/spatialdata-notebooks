{
 "cells": [
  {
   "cell_type": "markdown",
   "id": "b13883a7-3bd2-49af-ae63-7e268d5c9253",
   "metadata": {
    "collapsed": false,
    "jupyter": {
     "outputs_hidden": false
    }
   },
   "source": [
    "# Working with annotations in SpatialData\n",
    "\n",
    "## Introduction\n",
    "The `spatialdata` framework supports both the representation of `SpatialElement`s (images, labels, points, shapes) and of annotations for these elements. As we will explore in this notebook, some types of `SpatialElement`s can contain some annotatoins within themselves, but the general approach we take is to represent `SpatialElement`s and annotations in separate objects, which allows or more granular control and composability.\n",
    "\n",
    "For storing annotations we rely on the `AnnData` data structure, and we refer to this object also with the term *table*.\n",
    "\n",
    "In this notebook we will show the following:"
   ]
  },
  {
   "cell_type": "markdown",
   "id": "c99b4597-ebe5-4a13-ab04-781edfadd6db",
   "metadata": {},
   "source": [
    " &#x2022;  Introduction<br>\n",
    " &#x2022;  Store annotations in a `SpatialElement`<br>\n",
    "&emsp;&emsp; &#x2022;  Labels<br>\n",
    "&emsp;&emsp; &#x2022;  Shapes (circles, polygons/multipolygons)<br>\n",
    "&emsp;&emsp; &#x2022;  Points<br>\n",
    "&emsp;&emsp; &#x2022;  Images<br>\n",
    " &#x2022;  Store annotations with `AnnData` tables<br>\n",
    "&emsp;&emsp; &#x2022;  Table metadata (annotation targets)<br>\n",
    "&emsp;&emsp; &#x2022;  Retrieving annotations with `get_values()`<br>\n",
    "&emsp;&emsp;&emsp;&emsp; &#x2022;  Where to store the annotation<br>\n",
    " &#x2022;  Operations on tables<br>\n",
    "&emsp;&emsp; &#x2022;  Find which elements a table is annotating<br>\n",
    "&emsp;&emsp; &#x2022;  Change the annotation target of table<br>\n",
    "&emsp;&emsp; &#x2022;  Construct a table annotating 0 `SpatialElements`<br>\n",
    "&emsp;&emsp; &#x2022;  Construct a table annotating 1 or more `SpatialElement`s<br>\n",
    " &#x2022;  Performing SQL like joins<br>\n",
    "&emsp;&emsp; &#x2022;  A note on joins<br>\n",
    " &#x2022;  A use case for table<br>\n"
   ]
  },
  {
   "cell_type": "markdown",
   "id": "b71e7051-0606-495f-b9be-a99d9184e3a6",
   "metadata": {},
   "source": [
    "## Store annotations in a `SpatialElement`"
   ]
  },
  {
   "cell_type": "markdown",
   "id": "b01899b4-8126-408f-bc6c-5b7b614bc7a5",
   "metadata": {},
   "source": [
    "We will consider an example datasets, `blobs`, which contains a copy for each type of `SpatialElement` we support."
   ]
  },
  {
   "cell_type": "code",
   "execution_count": 1,
   "id": "3775527514eac947",
   "metadata": {
    "ExecuteTime": {
     "end_time": "2024-03-26T10:14:16.025488Z",
     "start_time": "2024-03-26T10:14:12.284766400Z"
    },
    "collapsed": false,
    "jupyter": {
     "outputs_hidden": false
    }
   },
   "outputs": [
    {
     "name": "stderr",
     "output_type": "stream",
     "text": [
      "/Users/macbook/miniconda3/envs/ome/lib/python3.10/site-packages/shapely/predicates.py:853: RuntimeWarning: invalid value encountered in overlaps\n",
      "  return lib.overlaps(a, b, **kwargs)\n",
      "/Users/macbook/miniconda3/envs/ome/lib/python3.10/site-packages/anndata/_core/anndata.py:522: FutureWarning: The dtype argument is deprecated and will be removed in late 2024.\n",
      "  warnings.warn(\n",
      "/Users/macbook/embl/projects/basel/spatialdata/src/spatialdata/_core/operations/aggregate.py:260: UserWarning: Converting `region_key: region` to categorical dtype.\n",
      "  table = TableModel.parse(table, region=shapes_name, region_key=region_key, instance_key=instance_key)\n"
     ]
    },
    {
     "data": {
      "text/plain": [
       "SpatialData object with:\n",
       "├── Images\n",
       "│     ├── 'blobs_image': SpatialImage[cyx] (3, 512, 512)\n",
       "│     └── 'blobs_multiscale_image': MultiscaleSpatialImage[cyx] (3, 512, 512), (3, 256, 256), (3, 128, 128)\n",
       "├── Labels\n",
       "│     ├── 'blobs_labels': SpatialImage[yx] (512, 512)\n",
       "│     └── 'blobs_multiscale_labels': MultiscaleSpatialImage[yx] (512, 512), (256, 256), (128, 128)\n",
       "├── Points\n",
       "│     └── 'blobs_points': DataFrame with shape: (<Delayed>, 4) (2D points)\n",
       "├── Shapes\n",
       "│     ├── 'blobs_circles': GeoDataFrame shape: (5, 2) (2D shapes)\n",
       "│     ├── 'blobs_multipolygons': GeoDataFrame shape: (2, 1) (2D shapes)\n",
       "│     └── 'blobs_polygons': GeoDataFrame shape: (5, 1) (2D shapes)\n",
       "└── Tables\n",
       "      └── 'table': AnnData (26, 3)\n",
       "with coordinate systems:\n",
       "▸ 'global', with elements:\n",
       "        blobs_image (Images), blobs_multiscale_image (Images), blobs_labels (Labels), blobs_multiscale_labels (Labels), blobs_points (Points), blobs_circles (Shapes), blobs_multipolygons (Shapes), blobs_polygons (Shapes)"
      ]
     },
     "execution_count": 1,
     "metadata": {},
     "output_type": "execute_result"
    }
   ],
   "source": [
    "from spatialdata.datasets import blobs\n",
    "\n",
    "sdata = blobs()\n",
    "sdata"
   ]
  },
  {
   "cell_type": "markdown",
   "id": "ec58a882-52c2-41f2-8d55-b85641506726",
   "metadata": {},
   "source": [
    "### Labels"
   ]
  },
  {
   "cell_type": "markdown",
   "id": "8535c7bc-0963-4d9b-9353-7d87ff0e9b17",
   "metadata": {},
   "source": [
    "Labels object cannot contain annotations within themselves; instead, a table is needed for that. Let's see how to compute their indices."
   ]
  },
  {
   "cell_type": "markdown",
   "id": "ce6b7bb8-ca02-4e7e-829a-d9849319f22d",
   "metadata": {},
   "source": [
    "2D and 3D labels have respectively dimensions `('y', 'x')` and `('z', 'y', 'x')`. Given a labels object, the instances are defined by all the pixels whose value is equal to a particular index. In order to identify the indices one can therefore compute the unique values in the labels object (for a multiscale labels the largest resolution should be considered). This is conveniently done by the private function `_get_unique_label_values_as_index()`; \n",
    "in one of the next releases we will include this function as a special case of the `get_values()` function, discussed later in the notebook.\n",
    "\n",
    "Here we show how to use this function to identify the indices of the instances encoded by the labels object, and also how to manually compute this information."
   ]
  },
  {
   "cell_type": "code",
   "execution_count": 2,
   "id": "eb5ebefc-b7b3-4bc7-ba2a-0d3687634900",
   "metadata": {},
   "outputs": [
    {
     "name": "stdout",
     "output_type": "stream",
     "text": [
      "Index([ 0,  1,  2,  3,  4,  5,  6,  8,  9, 10, 11, 12, 13, 15, 16, 17, 18, 19,\n",
      "       20, 22, 23, 24, 25, 26, 27, 29, 30],\n",
      "      dtype='int16')\n",
      "[ 0  1  2  3  4  5  6  8  9 10 11 12 13 15 16 17 18 19 20 22 23 24 25 26\n",
      " 27 29 30]\n"
     ]
    }
   ],
   "source": [
    "import numpy as np\n",
    "from spatialdata import get_element_instances\n",
    "\n",
    "print(get_element_instances(sdata[\"blobs_multiscale_labels\"]))\n",
    "print(np.unique(sdata[\"blobs_multiscale_labels\"][\"scale0\"][\"image\"].data.compute()))"
   ]
  },
  {
   "cell_type": "markdown",
   "id": "a026b4f9-22df-4d33-9e50-b869f2a9ec96",
   "metadata": {},
   "source": [
    "### Shapes (circles, polygons/multipolygons)"
   ]
  },
  {
   "cell_type": "markdown",
   "id": "e572ea83-0835-441e-b409-52bb7e516e31",
   "metadata": {},
   "source": [
    "Shapes are `GeoDataFrame` object, a subclass of `GeoDataFrame` where the geometric information is specified in the `geometry` column. Since they are dataframes, they in particular contain the index, which can be accessed with"
   ]
  },
  {
   "cell_type": "code",
   "execution_count": 3,
   "id": "fbb9930c-8e38-4ed8-9052-70bceff90edf",
   "metadata": {},
   "outputs": [
    {
     "data": {
      "text/plain": [
       "RangeIndex(start=0, stop=2, step=1)"
      ]
     },
     "execution_count": 3,
     "metadata": {},
     "output_type": "execute_result"
    }
   ],
   "source": [
    "sdata[\"blobs_multipolygons\"].index"
   ]
  },
  {
   "cell_type": "markdown",
   "id": "9ae8a84b-4b64-4e58-b507-69f37369b042",
   "metadata": {},
   "source": [
    "Circles require a column named `radius` and the rows in the columns `geometry` need to be of type `shapely.Point`. Polygons/multipolygons require the type of the rows in the column `geometry` to be `shapely.Polygon`/`shapely.MultiPolygon`. These are the only requirements, and the extra columns can be used for annotation."
   ]
  },
  {
   "cell_type": "code",
   "execution_count": 4,
   "id": "57755603-8617-47d3-be5c-e2e63260feb4",
   "metadata": {},
   "outputs": [
    {
     "data": {
      "text/html": [
       "<div>\n",
       "<style scoped>\n",
       "    .dataframe tbody tr th:only-of-type {\n",
       "        vertical-align: middle;\n",
       "    }\n",
       "\n",
       "    .dataframe tbody tr th {\n",
       "        vertical-align: top;\n",
       "    }\n",
       "\n",
       "    .dataframe thead th {\n",
       "        text-align: right;\n",
       "    }\n",
       "</style>\n",
       "<table border=\"1\" class=\"dataframe\">\n",
       "  <thead>\n",
       "    <tr style=\"text-align: right;\">\n",
       "      <th></th>\n",
       "      <th>geometry</th>\n",
       "      <th>radius</th>\n",
       "      <th>my_value</th>\n",
       "    </tr>\n",
       "  </thead>\n",
       "  <tbody>\n",
       "    <tr>\n",
       "      <th>0</th>\n",
       "      <td>POINT (291.062 197.065)</td>\n",
       "      <td>51</td>\n",
       "      <td>0</td>\n",
       "    </tr>\n",
       "    <tr>\n",
       "      <th>1</th>\n",
       "      <td>POINT (259.026 371.319)</td>\n",
       "      <td>51</td>\n",
       "      <td>0</td>\n",
       "    </tr>\n",
       "    <tr>\n",
       "      <th>2</th>\n",
       "      <td>POINT (194.973 204.414)</td>\n",
       "      <td>51</td>\n",
       "      <td>0</td>\n",
       "    </tr>\n",
       "    <tr>\n",
       "      <th>3</th>\n",
       "      <td>POINT (149.926 188.623)</td>\n",
       "      <td>51</td>\n",
       "      <td>0</td>\n",
       "    </tr>\n",
       "    <tr>\n",
       "      <th>4</th>\n",
       "      <td>POINT (369.422 258.900)</td>\n",
       "      <td>51</td>\n",
       "      <td>1</td>\n",
       "    </tr>\n",
       "  </tbody>\n",
       "</table>\n",
       "</div>"
      ],
      "text/plain": [
       "                  geometry  radius  my_value\n",
       "0  POINT (291.062 197.065)      51         0\n",
       "1  POINT (259.026 371.319)      51         0\n",
       "2  POINT (194.973 204.414)      51         0\n",
       "3  POINT (149.926 188.623)      51         0\n",
       "4  POINT (369.422 258.900)      51         1"
      ]
     },
     "execution_count": 4,
     "metadata": {},
     "output_type": "execute_result"
    }
   ],
   "source": [
    "sdata[\"blobs_circles\"][\"my_value\"] = [0, 0, 0, 0, 1]\n",
    "sdata[\"blobs_circles\"]"
   ]
  },
  {
   "cell_type": "code",
   "execution_count": 5,
   "id": "d1c21b40-96dd-408f-8f7d-d153aa38e57c",
   "metadata": {},
   "outputs": [
    {
     "name": "stderr",
     "output_type": "stream",
     "text": [
      "/Users/macbook/embl/projects/basel/spatialdata-plot/src/spatialdata_plot/pl/utils.py:1895: UserWarning: No table found with color column my_value to render blobs_circles\n",
      "  params = _validate_colors_element_table_mapping_points_shapes(sdata, params, wanted_elements_on_cs)\n"
     ]
    },
    {
     "data": {
      "image/png": "[encoded data removed]",
      "text/plain": [
       "<Figure size 640x480 with 2 Axes>"
      ]
     },
     "metadata": {},
     "output_type": "display_data"
    }
   ],
   "source": [
    "import spatialdata_plot\n",
    "\n",
    "sdata.pl.render_shapes(\"blobs_circles\", color=\"my_value\").pl.show()"
   ]
  },
  {
   "cell_type": "markdown",
   "id": "43b1c970-0253-40cc-944d-50443be2e4d3",
   "metadata": {},
   "source": [
    "### Points"
   ]
  },
  {
   "cell_type": "markdown",
   "id": "095c6603-0537-40c3-b454-3553208428d4",
   "metadata": {},
   "source": [
    "Points are represented as \"lazy\" (using Dask) pandas dataframes. Similarly as above, they have an index. The spatial information is specified by the `x` and `y` columns (for 2D points) and the `x`, `y`, `z` columns (for 3D points). The rest of the columns can be used to store annotations. The `blobs` dataset already stores some annotations in those columns."
   ]
  },
  {
   "cell_type": "code",
   "execution_count": 6,
   "id": "42d6f6e4-667d-49c2-8705-c89fd6dc4152",
   "metadata": {},
   "outputs": [
    {
     "data": {
      "text/html": [
       "<div>\n",
       "<style scoped>\n",
       "    .dataframe tbody tr th:only-of-type {\n",
       "        vertical-align: middle;\n",
       "    }\n",
       "\n",
       "    .dataframe tbody tr th {\n",
       "        vertical-align: top;\n",
       "    }\n",
       "\n",
       "    .dataframe thead th {\n",
       "        text-align: right;\n",
       "    }\n",
       "</style>\n",
       "<table border=\"1\" class=\"dataframe\">\n",
       "  <thead>\n",
       "    <tr style=\"text-align: right;\">\n",
       "      <th></th>\n",
       "      <th>x</th>\n",
       "      <th>y</th>\n",
       "      <th>genes</th>\n",
       "      <th>instance_id</th>\n",
       "    </tr>\n",
       "  </thead>\n",
       "  <tbody>\n",
       "    <tr>\n",
       "      <th>0</th>\n",
       "      <td>46</td>\n",
       "      <td>395</td>\n",
       "      <td>gene_b</td>\n",
       "      <td>9</td>\n",
       "    </tr>\n",
       "    <tr>\n",
       "      <th>1</th>\n",
       "      <td>334</td>\n",
       "      <td>224</td>\n",
       "      <td>gene_b</td>\n",
       "      <td>7</td>\n",
       "    </tr>\n",
       "    <tr>\n",
       "      <th>2</th>\n",
       "      <td>221</td>\n",
       "      <td>438</td>\n",
       "      <td>gene_b</td>\n",
       "      <td>3</td>\n",
       "    </tr>\n",
       "    <tr>\n",
       "      <th>3</th>\n",
       "      <td>44</td>\n",
       "      <td>356</td>\n",
       "      <td>gene_a</td>\n",
       "      <td>9</td>\n",
       "    </tr>\n",
       "    <tr>\n",
       "      <th>4</th>\n",
       "      <td>103</td>\n",
       "      <td>49</td>\n",
       "      <td>gene_b</td>\n",
       "      <td>4</td>\n",
       "    </tr>\n",
       "    <tr>\n",
       "      <th>...</th>\n",
       "      <td>...</td>\n",
       "      <td>...</td>\n",
       "      <td>...</td>\n",
       "      <td>...</td>\n",
       "    </tr>\n",
       "    <tr>\n",
       "      <th>195</th>\n",
       "      <td>381</td>\n",
       "      <td>92</td>\n",
       "      <td>gene_a</td>\n",
       "      <td>8</td>\n",
       "    </tr>\n",
       "    <tr>\n",
       "      <th>196</th>\n",
       "      <td>188</td>\n",
       "      <td>306</td>\n",
       "      <td>gene_b</td>\n",
       "      <td>5</td>\n",
       "    </tr>\n",
       "    <tr>\n",
       "      <th>197</th>\n",
       "      <td>368</td>\n",
       "      <td>447</td>\n",
       "      <td>gene_a</td>\n",
       "      <td>7</td>\n",
       "    </tr>\n",
       "    <tr>\n",
       "      <th>198</th>\n",
       "      <td>23</td>\n",
       "      <td>101</td>\n",
       "      <td>gene_a</td>\n",
       "      <td>6</td>\n",
       "    </tr>\n",
       "    <tr>\n",
       "      <th>199</th>\n",
       "      <td>144</td>\n",
       "      <td>159</td>\n",
       "      <td>gene_a</td>\n",
       "      <td>6</td>\n",
       "    </tr>\n",
       "  </tbody>\n",
       "</table>\n",
       "<p>200 rows × 4 columns</p>\n",
       "</div>"
      ],
      "text/plain": [
       "       x    y   genes  instance_id\n",
       "0     46  395  gene_b            9\n",
       "1    334  224  gene_b            7\n",
       "2    221  438  gene_b            3\n",
       "3     44  356  gene_a            9\n",
       "4    103   49  gene_b            4\n",
       "..   ...  ...     ...          ...\n",
       "195  381   92  gene_a            8\n",
       "196  188  306  gene_b            5\n",
       "197  368  447  gene_a            7\n",
       "198   23  101  gene_a            6\n",
       "199  144  159  gene_a            6\n",
       "\n",
       "[200 rows x 4 columns]"
      ]
     },
     "execution_count": 6,
     "metadata": {},
     "output_type": "execute_result"
    }
   ],
   "source": [
    "sdata[\"blobs_points\"].compute()"
   ]
  },
  {
   "cell_type": "code",
   "execution_count": 7,
   "id": "0d940687-6a1f-4cc7-b38f-584ffb8b1d17",
   "metadata": {},
   "outputs": [
    {
     "name": "stderr",
     "output_type": "stream",
     "text": [
      "/Users/macbook/embl/projects/basel/spatialdata-plot/src/spatialdata_plot/pl/utils.py:1895: UserWarning: No table found with color column genes to render blobs_points\n",
      "  params = _validate_colors_element_table_mapping_points_shapes(sdata, params, wanted_elements_on_cs)\n",
      "/Users/macbook/miniconda3/envs/ome/lib/python3.10/site-packages/anndata/_core/anndata.py:522: FutureWarning: The dtype argument is deprecated and will be removed in late 2024.\n",
      "  warnings.warn(\n",
      "/Users/macbook/miniconda3/envs/ome/lib/python3.10/site-packages/anndata/_core/anndata.py:183: ImplicitModificationWarning: Transforming to str index.\n",
      "  warnings.warn(\"Transforming to str index.\", ImplicitModificationWarning)\n",
      "/Users/macbook/embl/projects/basel/spatialdata/src/spatialdata/_core/_elements.py:102: UserWarning: Key `blobs_points` already exists. Overwriting it.\n",
      "  self._check_key(key, self.keys(), self._shared_keys)\n",
      "/Users/macbook/embl/projects/basel/spatialdata-plot/src/spatialdata_plot/pl/utils.py:692: FutureWarning: The default value of 'ignore' for the `na_action` parameter in pandas.Categorical.map is deprecated and will be changed to 'None' in a future version. Please set na_action to the desired value to avoid seeing this warning\n",
      "  color_vector = color_source_vector.map(color_map)\n",
      "/Users/macbook/embl/projects/basel/spatialdata-plot/src/spatialdata_plot/pl/render.py:320: UserWarning: No data for colormapping provided via 'c'. Parameters 'cmap', 'norm' will be ignored\n",
      "  _cax = ax.scatter(\n"
     ]
    },
    {
     "data": {
      "image/png": "[encoded data removed]",
      "text/plain": [
       "<Figure size 640x480 with 1 Axes>"
      ]
     },
     "metadata": {},
     "output_type": "display_data"
    }
   ],
   "source": [
    "sdata.pl.render_points(color=\"genes\").pl.show()"
   ]
  },
  {
   "cell_type": "markdown",
   "id": "8006fc4c-46f7-4de9-a0d2-a365332332fc",
   "metadata": {},
   "source": [
    "### Images"
   ]
  },
  {
   "cell_type": "markdown",
   "id": "b0d161a2-d8e8-4124-8d58-0b0bf760bf5c",
   "metadata": {},
   "source": [
    "2D and 3D images have respectively dimensions `('c', 'y', 'x')` and `('c', 'z', 'y', 'x')`. Unlike for the `SpatialElement`s above, images do not contain information on instances and in particular they do not have an index. Nevertheless, the coordinates of the dimension `c` of images can be specified, thus giving a name for each channel."
   ]
  },
  {
   "cell_type": "markdown",
   "id": "5c5aa70c-479b-472c-bc09-b73987cfb35d",
   "metadata": {},
   "source": [
    "Channels can be accessed using the utils function `get_channels()`, which operates on both single-scale and multi-scale images."
   ]
  },
  {
   "cell_type": "code",
   "execution_count": 8,
   "id": "c3907045-99c9-4c5a-b25f-9c7995ce66a1",
   "metadata": {},
   "outputs": [],
   "source": [
    "from spatialdata.models import get_channels"
   ]
  },
  {
   "cell_type": "code",
   "execution_count": 9,
   "id": "74927305-1d39-4fef-8330-ff78cefb70b3",
   "metadata": {},
   "outputs": [
    {
     "data": {
      "text/plain": [
       "[0, 1, 2]"
      ]
     },
     "execution_count": 9,
     "metadata": {},
     "output_type": "execute_result"
    }
   ],
   "source": [
    "get_channels(sdata[\"blobs_multiscale_image\"])"
   ]
  },
  {
   "cell_type": "markdown",
   "id": "c5e9c85f-740f-4988-8c5d-5a70460f55b4",
   "metadata": {},
   "source": [
    "The channels can also be accessed directly from the `xarray.DataArray` object. For instance for a single-scale image we have"
   ]
  },
  {
   "cell_type": "code",
   "execution_count": 10,
   "id": "c4b423a1-d9ec-4288-b8d8-6602b7ec5a95",
   "metadata": {},
   "outputs": [
    {
     "data": {
      "text/plain": [
       "array([0, 1, 2])"
      ]
     },
     "execution_count": 10,
     "metadata": {},
     "output_type": "execute_result"
    }
   ],
   "source": [
    "sdata[\"blobs_image\"].c.values"
   ]
  },
  {
   "cell_type": "markdown",
   "id": "012fc441-26f3-4db9-8bb6-5fd2db47c3ad",
   "metadata": {},
   "source": [
    "To set the channels we recommend to use the parsers `Image2DModel.parse()` and `Image3DModel.parse()`. For instance"
   ]
  },
  {
   "cell_type": "code",
   "execution_count": 11,
   "id": "bf88ad73-949c-422b-aab1-f8c9907b9df6",
   "metadata": {},
   "outputs": [],
   "source": [
    "from spatialdata.models import Image2DModel"
   ]
  },
  {
   "cell_type": "code",
   "execution_count": 12,
   "id": "d829ad07-65d6-4828-a9e5-e5095a39a06f",
   "metadata": {},
   "outputs": [
    {
     "name": "stderr",
     "output_type": "stream",
     "text": [
      "/Users/macbook/embl/projects/basel/spatialdata/src/spatialdata/_core/_elements.py:54: UserWarning: Key `blobs_image` already exists. Overwriting it.\n",
      "  self._check_key(key, self.keys(), self._shared_keys)\n"
     ]
    },
    {
     "data": {
      "text/plain": [
       "['r', 'g', 'b']"
      ]
     },
     "execution_count": 12,
     "metadata": {},
     "output_type": "execute_result"
    }
   ],
   "source": [
    "sdata[\"blobs_image\"] = Image2DModel.parse(sdata[\"blobs_image\"], c_coords=[\"r\", \"g\", \"b\"])\n",
    "get_channels(sdata[\"blobs_image\"])"
   ]
  },
  {
   "cell_type": "markdown",
   "id": "d8677638-6abf-4323-9279-65740971e768",
   "metadata": {},
   "source": [
    "## Store annotations with `AnnData` tables"
   ]
  },
  {
   "cell_type": "markdown",
   "id": "4adc9a74-d8a8-4b9c-9c09-8ca8d8124941",
   "metadata": {},
   "source": [
    "Tables can annotate any `SpatialElement` that have an index, so they can annotate labels, shapes and points. Tables can also be specified without defining the annotation target; images do not have an index so they cannot be annotated by a table, but one could use a table without an annotation target to effectively annotate the channels of the image. Tables cannot annotate tables. "
   ]
  },
  {
   "cell_type": "markdown",
   "id": "164ab5ce-7ff4-4919-86b1-8cad99359a1b",
   "metadata": {},
   "source": [
    "An `AnnData` table offers a more powerful way to store annotations as opposed to the methods described before. The `AnnData` object can store sparse and dense matrices, multiple layers (=variants) of these matrices, and can store annotations for the rows and columns for these matrices in terms of tensors, dataframes and matrices of pairwise relationships. We refer to the `anndata` documentation (https://anndata.readthedocs.io/en/latest/) for a full description of this and here we limit to the following graphical schematic."
   ]
  },
  {
   "cell_type": "markdown",
   "id": "af84d6a2-0cb5-4c08-9503-03836a7dcf59",
   "metadata": {},
   "source": [
    "<img src=\"https://raw.githubusercontent.com/scverse/anndata/main/docs/_static/img/anndata_schema.svg\" width=\"500\" height=\"500\" />"
   ]
  },
  {
   "cell_type": "markdown",
   "id": "7e4f3d66-a926-41a2-a1fd-67330b4804f6",
   "metadata": {},
   "source": [
    "### Table metadata (annotation targets)"
   ]
  },
  {
   "cell_type": "markdown",
   "id": "b63a9f89-4a08-4430-8d22-f1423cc2d304",
   "metadata": {},
   "source": [
    "Each table contains some metadata that defines the annotation target (if any) of the table. This metadata is constituted by:\n",
    "- the `region`, `region_key` and `instance_key` triplet, stored in `table.uns`;\n",
    "- two columns of the `DataFrame` stored in `table.obs`."
   ]
  },
  {
   "cell_type": "markdown",
   "id": "ea2d38f3-b1b0-4389-88be-27fd717c1434",
   "metadata": {},
   "source": [
    "A table that doesn't annotate any element doesn't contain any of the above metadata. Instead, in order to define the annotation targets of a table, the above metadata is defined as follows:"
   ]
  },
  {
   "cell_type": "markdown",
   "id": "7170006e-d0cb-4e70-a277-d29380dc0b3f",
   "metadata": {},
   "source": [
    "- `region` is either a string either a list of strings, and describes the list of targets, i.e. the `SpatialElement`s that the table annotates. \n",
    "- `region_key` is a string, and is the name of a column of the dataframe `table.obs` which describes, for each row, which is the `SpatialElement` that the rows refers to;\n",
    "- `instance_key` is a string, and is the name of a column of the dataframe `table.obs` which describes, for each row, which is the index of the particular annotated instance (which is inside the `SpatialElement` annotated by the row).\n",
    "\n",
    "A few more details on the two dataframe columns.\n",
    "- The column named after `region_key` must have string either categorical type; it should nevertheless be categorical and the framework will warn the user to convert it as categorical before performing computationally expensive operations. \n",
    "- The column named after `instance_key` must be either have numerical either string type."
   ]
  },
  {
   "cell_type": "markdown",
   "id": "dbbeb06c-538a-4e83-8278-02dc56a7dd58",
   "metadata": {},
   "source": [
    "Finally, you may notice that the information contained in `region` is redunant (as it can be computed as the list of unique values of the column named after `region_key`) and it may even get out-of-sync (for instance after subsetting the rows). For these reasons, in a future release we will simplify the metadata by dropping `region`, deriving it automatically instead. Anyway, currently we are maintaining it for legacy reasons.\n"
   ]
  },
  {
   "cell_type": "markdown",
   "id": "6627fc6c-70bc-4e01-8123-3a6c979ead3d",
   "metadata": {},
   "source": [
    "**Warning!** Please note that we haven't mentioned the index of the table. In fact, we do not use the index of the table!"
   ]
  },
  {
   "cell_type": "markdown",
   "id": "d20d471f-4bfd-4faa-8f14-e17cc2a776d2",
   "metadata": {},
   "source": [
    "The above information is summarized in the following graphical slide."
   ]
  },
  {
   "attachments": {},
   "cell_type": "markdown",
   "id": "5fa796f5-009b-4c2b-a2bd-0ba42d7e69f2",
   "metadata": {},
   "source": [
    "![table_slide](attachments/table_slide.png)"
   ]
  },
  {
   "cell_type": "markdown",
   "id": "d38b3eed-dd9e-4abd-b761-c10370adc783",
   "metadata": {},
   "source": [
    "### Retrieving annotations with `get_values()`\n",
    "We provide a function `get_values()` that can be useful to retrive one or more columns of annotations for an element, independently if the annotations is stored in a table or in the elment. Here is an example."
   ]
  },
  {
   "cell_type": "code",
   "execution_count": 39,
   "id": "8b3fff14-c854-427f-8e5b-51a3f8e2a59b",
   "metadata": {},
   "outputs": [
    {
     "data": {
      "text/html": [
       "<div>\n",
       "<style scoped>\n",
       "    .dataframe tbody tr th:only-of-type {\n",
       "        vertical-align: middle;\n",
       "    }\n",
       "\n",
       "    .dataframe tbody tr th {\n",
       "        vertical-align: top;\n",
       "    }\n",
       "\n",
       "    .dataframe thead th {\n",
       "        text-align: right;\n",
       "    }\n",
       "</style>\n",
       "<table border=\"1\" class=\"dataframe\">\n",
       "  <thead>\n",
       "    <tr style=\"text-align: right;\">\n",
       "      <th></th>\n",
       "      <th>x</th>\n",
       "      <th>y</th>\n",
       "      <th>genes</th>\n",
       "      <th>instance_id</th>\n",
       "    </tr>\n",
       "  </thead>\n",
       "  <tbody>\n",
       "    <tr>\n",
       "      <th>0</th>\n",
       "      <td>46</td>\n",
       "      <td>395</td>\n",
       "      <td>gene_b</td>\n",
       "      <td>9</td>\n",
       "    </tr>\n",
       "    <tr>\n",
       "      <th>1</th>\n",
       "      <td>334</td>\n",
       "      <td>224</td>\n",
       "      <td>gene_b</td>\n",
       "      <td>7</td>\n",
       "    </tr>\n",
       "    <tr>\n",
       "      <th>2</th>\n",
       "      <td>221</td>\n",
       "      <td>438</td>\n",
       "      <td>gene_b</td>\n",
       "      <td>3</td>\n",
       "    </tr>\n",
       "    <tr>\n",
       "      <th>3</th>\n",
       "      <td>44</td>\n",
       "      <td>356</td>\n",
       "      <td>gene_a</td>\n",
       "      <td>9</td>\n",
       "    </tr>\n",
       "    <tr>\n",
       "      <th>4</th>\n",
       "      <td>103</td>\n",
       "      <td>49</td>\n",
       "      <td>gene_b</td>\n",
       "      <td>4</td>\n",
       "    </tr>\n",
       "    <tr>\n",
       "      <th>...</th>\n",
       "      <td>...</td>\n",
       "      <td>...</td>\n",
       "      <td>...</td>\n",
       "      <td>...</td>\n",
       "    </tr>\n",
       "    <tr>\n",
       "      <th>195</th>\n",
       "      <td>381</td>\n",
       "      <td>92</td>\n",
       "      <td>gene_a</td>\n",
       "      <td>8</td>\n",
       "    </tr>\n",
       "    <tr>\n",
       "      <th>196</th>\n",
       "      <td>188</td>\n",
       "      <td>306</td>\n",
       "      <td>gene_b</td>\n",
       "      <td>5</td>\n",
       "    </tr>\n",
       "    <tr>\n",
       "      <th>197</th>\n",
       "      <td>368</td>\n",
       "      <td>447</td>\n",
       "      <td>gene_a</td>\n",
       "      <td>7</td>\n",
       "    </tr>\n",
       "    <tr>\n",
       "      <th>198</th>\n",
       "      <td>23</td>\n",
       "      <td>101</td>\n",
       "      <td>gene_a</td>\n",
       "      <td>6</td>\n",
       "    </tr>\n",
       "    <tr>\n",
       "      <th>199</th>\n",
       "      <td>144</td>\n",
       "      <td>159</td>\n",
       "      <td>gene_a</td>\n",
       "      <td>6</td>\n",
       "    </tr>\n",
       "  </tbody>\n",
       "</table>\n",
       "<p>200 rows × 4 columns</p>\n",
       "</div>"
      ],
      "text/plain": [
       "       x    y   genes  instance_id\n",
       "0     46  395  gene_b            9\n",
       "1    334  224  gene_b            7\n",
       "2    221  438  gene_b            3\n",
       "3     44  356  gene_a            9\n",
       "4    103   49  gene_b            4\n",
       "..   ...  ...     ...          ...\n",
       "195  381   92  gene_a            8\n",
       "196  188  306  gene_b            5\n",
       "197  368  447  gene_a            7\n",
       "198   23  101  gene_a            6\n",
       "199  144  159  gene_a            6\n",
       "\n",
       "[200 rows x 4 columns]"
      ]
     },
     "execution_count": 39,
     "metadata": {},
     "output_type": "execute_result"
    }
   ],
   "source": [
    "sdata[\"blobs_points\"].compute()"
   ]
  },
  {
   "cell_type": "code",
   "execution_count": 38,
   "id": "52d7523e-9e8b-4ee5-a181-a56b98f1b6df",
   "metadata": {},
   "outputs": [
    {
     "data": {
      "text/html": [
       "<div>\n",
       "<style scoped>\n",
       "    .dataframe tbody tr th:only-of-type {\n",
       "        vertical-align: middle;\n",
       "    }\n",
       "\n",
       "    .dataframe tbody tr th {\n",
       "        vertical-align: top;\n",
       "    }\n",
       "\n",
       "    .dataframe thead th {\n",
       "        text-align: right;\n",
       "    }\n",
       "</style>\n",
       "<table border=\"1\" class=\"dataframe\">\n",
       "  <thead>\n",
       "    <tr style=\"text-align: right;\">\n",
       "      <th></th>\n",
       "      <th>genes</th>\n",
       "    </tr>\n",
       "  </thead>\n",
       "  <tbody>\n",
       "    <tr>\n",
       "      <th>0</th>\n",
       "      <td>gene_b</td>\n",
       "    </tr>\n",
       "    <tr>\n",
       "      <th>1</th>\n",
       "      <td>gene_b</td>\n",
       "    </tr>\n",
       "    <tr>\n",
       "      <th>2</th>\n",
       "      <td>gene_b</td>\n",
       "    </tr>\n",
       "    <tr>\n",
       "      <th>3</th>\n",
       "      <td>gene_a</td>\n",
       "    </tr>\n",
       "    <tr>\n",
       "      <th>4</th>\n",
       "      <td>gene_b</td>\n",
       "    </tr>\n",
       "    <tr>\n",
       "      <th>...</th>\n",
       "      <td>...</td>\n",
       "    </tr>\n",
       "    <tr>\n",
       "      <th>195</th>\n",
       "      <td>gene_a</td>\n",
       "    </tr>\n",
       "    <tr>\n",
       "      <th>196</th>\n",
       "      <td>gene_b</td>\n",
       "    </tr>\n",
       "    <tr>\n",
       "      <th>197</th>\n",
       "      <td>gene_a</td>\n",
       "    </tr>\n",
       "    <tr>\n",
       "      <th>198</th>\n",
       "      <td>gene_a</td>\n",
       "    </tr>\n",
       "    <tr>\n",
       "      <th>199</th>\n",
       "      <td>gene_a</td>\n",
       "    </tr>\n",
       "  </tbody>\n",
       "</table>\n",
       "<p>200 rows × 1 columns</p>\n",
       "</div>"
      ],
      "text/plain": [
       "      genes\n",
       "0    gene_b\n",
       "1    gene_b\n",
       "2    gene_b\n",
       "3    gene_a\n",
       "4    gene_b\n",
       "..      ...\n",
       "195  gene_a\n",
       "196  gene_b\n",
       "197  gene_a\n",
       "198  gene_a\n",
       "199  gene_a\n",
       "\n",
       "[200 rows x 1 columns]"
      ]
     },
     "execution_count": 38,
     "metadata": {},
     "output_type": "execute_result"
    }
   ],
   "source": [
    "from spatialdata import get_values\n",
    "\n",
    "get_values(value_key=\"genes\", element=sdata[\"blobs_points\"])"
   ]
  },
  {
   "cell_type": "code",
   "execution_count": 46,
   "id": "532ff94e-57c2-4d21-a15b-285b24522a6e",
   "metadata": {},
   "outputs": [
    {
     "data": {
      "text/plain": [
       "Index(['channel_0_sum', 'channel_1_sum', 'channel_2_sum'], dtype='object')"
      ]
     },
     "execution_count": 46,
     "metadata": {},
     "output_type": "execute_result"
    }
   ],
   "source": [
    "sdata[\"table\"].var_names"
   ]
  },
  {
   "cell_type": "code",
   "execution_count": 48,
   "id": "1c4eb498-e54f-45b1-b304-491c2a6ae362",
   "metadata": {},
   "outputs": [
    {
     "data": {
      "text/html": [
       "<div>\n",
       "<style scoped>\n",
       "    .dataframe tbody tr th:only-of-type {\n",
       "        vertical-align: middle;\n",
       "    }\n",
       "\n",
       "    .dataframe tbody tr th {\n",
       "        vertical-align: top;\n",
       "    }\n",
       "\n",
       "    .dataframe thead th {\n",
       "        text-align: right;\n",
       "    }\n",
       "</style>\n",
       "<table border=\"1\" class=\"dataframe\">\n",
       "  <thead>\n",
       "    <tr style=\"text-align: right;\">\n",
       "      <th></th>\n",
       "      <th>channel_0_sum</th>\n",
       "    </tr>\n",
       "    <tr>\n",
       "      <th>instance_id</th>\n",
       "      <th></th>\n",
       "    </tr>\n",
       "  </thead>\n",
       "  <tbody>\n",
       "    <tr>\n",
       "      <th>1</th>\n",
       "      <td>1309.369255</td>\n",
       "    </tr>\n",
       "    <tr>\n",
       "      <th>2</th>\n",
       "      <td>1535.995388</td>\n",
       "    </tr>\n",
       "    <tr>\n",
       "      <th>3</th>\n",
       "      <td>855.965478</td>\n",
       "    </tr>\n",
       "    <tr>\n",
       "      <th>4</th>\n",
       "      <td>614.497990</td>\n",
       "    </tr>\n",
       "    <tr>\n",
       "      <th>5</th>\n",
       "      <td>212.404587</td>\n",
       "    </tr>\n",
       "    <tr>\n",
       "      <th>6</th>\n",
       "      <td>482.633650</td>\n",
       "    </tr>\n",
       "    <tr>\n",
       "      <th>8</th>\n",
       "      <td>518.004680</td>\n",
       "    </tr>\n",
       "    <tr>\n",
       "      <th>9</th>\n",
       "      <td>258.186892</td>\n",
       "    </tr>\n",
       "    <tr>\n",
       "      <th>10</th>\n",
       "      <td>159.661750</td>\n",
       "    </tr>\n",
       "    <tr>\n",
       "      <th>11</th>\n",
       "      <td>3.438841</td>\n",
       "    </tr>\n",
       "    <tr>\n",
       "      <th>12</th>\n",
       "      <td>80.604196</td>\n",
       "    </tr>\n",
       "    <tr>\n",
       "      <th>13</th>\n",
       "      <td>155.678618</td>\n",
       "    </tr>\n",
       "    <tr>\n",
       "      <th>15</th>\n",
       "      <td>230.130425</td>\n",
       "    </tr>\n",
       "    <tr>\n",
       "      <th>16</th>\n",
       "      <td>150.663043</td>\n",
       "    </tr>\n",
       "    <tr>\n",
       "      <th>17</th>\n",
       "      <td>466.641687</td>\n",
       "    </tr>\n",
       "    <tr>\n",
       "      <th>18</th>\n",
       "      <td>2.271171</td>\n",
       "    </tr>\n",
       "    <tr>\n",
       "      <th>19</th>\n",
       "      <td>1.270513</td>\n",
       "    </tr>\n",
       "    <tr>\n",
       "      <th>20</th>\n",
       "      <td>118.423858</td>\n",
       "    </tr>\n",
       "    <tr>\n",
       "      <th>22</th>\n",
       "      <td>85.710077</td>\n",
       "    </tr>\n",
       "    <tr>\n",
       "      <th>23</th>\n",
       "      <td>285.418051</td>\n",
       "    </tr>\n",
       "    <tr>\n",
       "      <th>24</th>\n",
       "      <td>24.794733</td>\n",
       "    </tr>\n",
       "    <tr>\n",
       "      <th>25</th>\n",
       "      <td>220.373520</td>\n",
       "    </tr>\n",
       "    <tr>\n",
       "      <th>26</th>\n",
       "      <td>1.278647</td>\n",
       "    </tr>\n",
       "    <tr>\n",
       "      <th>27</th>\n",
       "      <td>113.662394</td>\n",
       "    </tr>\n",
       "    <tr>\n",
       "      <th>29</th>\n",
       "      <td>100.544497</td>\n",
       "    </tr>\n",
       "    <tr>\n",
       "      <th>30</th>\n",
       "      <td>59.460201</td>\n",
       "    </tr>\n",
       "  </tbody>\n",
       "</table>\n",
       "</div>"
      ],
      "text/plain": [
       "             channel_0_sum\n",
       "instance_id               \n",
       "1              1309.369255\n",
       "2              1535.995388\n",
       "3               855.965478\n",
       "4               614.497990\n",
       "5               212.404587\n",
       "6               482.633650\n",
       "8               518.004680\n",
       "9               258.186892\n",
       "10              159.661750\n",
       "11                3.438841\n",
       "12               80.604196\n",
       "13              155.678618\n",
       "15              230.130425\n",
       "16              150.663043\n",
       "17              466.641687\n",
       "18                2.271171\n",
       "19                1.270513\n",
       "20              118.423858\n",
       "22               85.710077\n",
       "23              285.418051\n",
       "24               24.794733\n",
       "25              220.373520\n",
       "26                1.278647\n",
       "27              113.662394\n",
       "29              100.544497\n",
       "30               59.460201"
      ]
     },
     "execution_count": 48,
     "metadata": {},
     "output_type": "execute_result"
    }
   ],
   "source": [
    "get_values(value_key=\"channel_0_sum\", sdata=sdata, element_name=\"blobs_labels\", table_name=\"table\")"
   ]
  },
  {
   "cell_type": "markdown",
   "id": "6ec38771-8bd7-4df9-8ec8-d017fd028bce",
   "metadata": {},
   "source": [
    "#### Where to store the annotation\n",
    "Here are some recommendation on when to store the annotations in the `SpatialElement` and when in the `AnnData` table:\n",
    "- we suggest to use the `AnnData` table when the annotations are complex, require the use of dense or sparse matrices and when there could be the need to reuse them between elements;\n",
    "- for small annotations, like storing the name or some comments for some regions of interest sometimes elements annotation are more handy;\n",
    "- when a point element is large (from 100 million rows), it may be worth, from a performance perspective, to store the annotation information directly in the point element instead that using an external `AnnData` table."
   ]
  },
  {
   "cell_type": "markdown",
   "id": "85f02a9f-0ae4-4db8-84fd-4c011ae68bdb",
   "metadata": {},
   "source": [
    "## Operations on tables\n",
    "### Find which elements a table is annotating"
   ]
  },
  {
   "cell_type": "markdown",
   "id": "7bd1bac77b593943",
   "metadata": {
    "collapsed": false,
    "jupyter": {
     "outputs_hidden": false
    }
   },
   "source": [
    "Let's now see an example. Blobs contains one table. Let's see what it is annotating by looking at the `region`, `region_key` and `instance_key` metadata, which can be accessed using the utils function `get_region_key()`."
   ]
  },
  {
   "cell_type": "code",
   "execution_count": 13,
   "id": "8f0769961cb3ab3a",
   "metadata": {
    "ExecuteTime": {
     "end_time": "2024-03-26T10:14:16.040956300Z",
     "start_time": "2024-03-26T10:14:16.027602Z"
    },
    "collapsed": false,
    "jupyter": {
     "outputs_hidden": false
    }
   },
   "outputs": [
    {
     "name": "stdout",
     "output_type": "stream",
     "text": [
      "blobs_labels region instance_id\n"
     ]
    }
   ],
   "source": [
    "from spatialdata.models import get_table_keys\n",
    "\n",
    "region, region_key, instance_key = get_table_keys(sdata[\"table\"])\n",
    "print(region, region_key, instance_key)"
   ]
  },
  {
   "cell_type": "markdown",
   "id": "d586de1a75157d31",
   "metadata": {
    "collapsed": false,
    "jupyter": {
     "outputs_hidden": false
    }
   },
   "source": [
    "We can see that this information is present in `sdata[\"table\"].obs`. Here `region` are the names of the `SpatialElement`s being annotated, the `region_key` corresponds to the column in `.obs` containing per row which `SpatialElement` is annotated by that row and `instance_key` specifies the column with per row the information which `index` of the `SpatialElement` the table is annotating."
   ]
  },
  {
   "cell_type": "code",
   "execution_count": 14,
   "id": "1eea2cf6278d1ef6",
   "metadata": {
    "ExecuteTime": {
     "end_time": "2024-03-26T10:14:16.074923900Z",
     "start_time": "2024-03-26T10:14:16.041980800Z"
    },
    "collapsed": false,
    "jupyter": {
     "outputs_hidden": false
    }
   },
   "outputs": [
    {
     "data": {
      "text/html": [
       "<div>\n",
       "<style scoped>\n",
       "    .dataframe tbody tr th:only-of-type {\n",
       "        vertical-align: middle;\n",
       "    }\n",
       "\n",
       "    .dataframe tbody tr th {\n",
       "        vertical-align: top;\n",
       "    }\n",
       "\n",
       "    .dataframe thead th {\n",
       "        text-align: right;\n",
       "    }\n",
       "</style>\n",
       "<table border=\"1\" class=\"dataframe\">\n",
       "  <thead>\n",
       "    <tr style=\"text-align: right;\">\n",
       "      <th></th>\n",
       "      <th>instance_id</th>\n",
       "      <th>region</th>\n",
       "    </tr>\n",
       "  </thead>\n",
       "  <tbody>\n",
       "    <tr>\n",
       "      <th>1</th>\n",
       "      <td>1</td>\n",
       "      <td>blobs_labels</td>\n",
       "    </tr>\n",
       "    <tr>\n",
       "      <th>2</th>\n",
       "      <td>2</td>\n",
       "      <td>blobs_labels</td>\n",
       "    </tr>\n",
       "    <tr>\n",
       "      <th>3</th>\n",
       "      <td>3</td>\n",
       "      <td>blobs_labels</td>\n",
       "    </tr>\n",
       "    <tr>\n",
       "      <th>4</th>\n",
       "      <td>4</td>\n",
       "      <td>blobs_labels</td>\n",
       "    </tr>\n",
       "    <tr>\n",
       "      <th>5</th>\n",
       "      <td>5</td>\n",
       "      <td>blobs_labels</td>\n",
       "    </tr>\n",
       "  </tbody>\n",
       "</table>\n",
       "</div>"
      ],
      "text/plain": [
       "   instance_id        region\n",
       "1            1  blobs_labels\n",
       "2            2  blobs_labels\n",
       "3            3  blobs_labels\n",
       "4            4  blobs_labels\n",
       "5            5  blobs_labels"
      ]
     },
     "execution_count": 14,
     "metadata": {},
     "output_type": "execute_result"
    }
   ],
   "source": [
    "sdata[\"table\"].obs.head()"
   ]
  },
  {
   "cell_type": "markdown",
   "id": "e7ee995b9b0a5d50",
   "metadata": {
    "collapsed": false,
    "jupyter": {
     "outputs_hidden": false
    }
   },
   "source": [
    "If we want to retrieve either of the three, there are three helper functions that allow for this, namely `get_annotated_regions`, `get_region_key_column` and `get_instance_key_column`. Either of these take only the `AnnData`table as an argument. Below we show an example:"
   ]
  },
  {
   "cell_type": "code",
   "execution_count": 15,
   "id": "b931b131-247b-4368-897e-3d542f454855",
   "metadata": {
    "ExecuteTime": {
     "end_time": "2024-03-26T10:14:16.086357Z",
     "start_time": "2024-03-26T10:14:16.057414800Z"
    },
    "collapsed": false,
    "jupyter": {
     "outputs_hidden": false
    }
   },
   "outputs": [
    {
     "name": "stdout",
     "output_type": "stream",
     "text": [
      "blobs_labels\n"
     ]
    }
   ],
   "source": [
    "from spatialdata import SpatialData as sd\n",
    "\n",
    "regions = sd.get_annotated_regions(sdata[\"table\"])\n",
    "print(regions)"
   ]
  },
  {
   "cell_type": "code",
   "execution_count": 16,
   "id": "a2f18bbc-14fa-42a3-9407-3d17a4faebcb",
   "metadata": {
    "ExecuteTime": {
     "end_time": "2024-03-26T10:14:16.086357Z",
     "start_time": "2024-03-26T10:14:16.057414800Z"
    },
    "collapsed": false,
    "jupyter": {
     "outputs_hidden": false
    }
   },
   "outputs": [
    {
     "name": "stdout",
     "output_type": "stream",
     "text": [
      "1    blobs_labels\n",
      "2    blobs_labels\n",
      "3    blobs_labels\n",
      "4    blobs_labels\n",
      "5    blobs_labels\n",
      "Name: region, dtype: category\n",
      "Categories (1, object): ['blobs_labels']\n"
     ]
    }
   ],
   "source": [
    "region_column = sd.get_region_key_column(sdata[\"table\"])\n",
    "print(region_column.head())"
   ]
  },
  {
   "cell_type": "markdown",
   "id": "9d7878b97f37adf",
   "metadata": {
    "collapsed": false,
    "jupyter": {
     "outputs_hidden": false
    }
   },
   "source": [
    "### Change the annotation target of table\n",
    "We have a helper function, `set_table_annotates_spatialelement` to change the metadata regarding the annotation target of table in a `SpatialData` object. This function takes as arguments the `table_name`, `region` and optionally the `region_key` and `instance_key`. The latter two don't have to necessarily be specified if the table is already annotating a `SpatialElement`. The current values will be reused if not specified. For any of the arguments specified, they must be present at their respective location in the `SpatialData`object or table."
   ]
  },
  {
   "cell_type": "markdown",
   "id": "a7ec0002-8a29-49f0-921e-2518786da647",
   "metadata": {},
   "source": [
    "Here we will create a new circles element, with a circle for each instance of the labels element, and we will make the table annotate this new element. Let's plot the labels with their annotations, let's set the table to annotate the new element and then let's also plot it."
   ]
  },
  {
   "cell_type": "code",
   "execution_count": 17,
   "id": "68f251f8-df98-423c-936c-82b38762d55c",
   "metadata": {},
   "outputs": [
    {
     "name": "stderr",
     "output_type": "stream",
     "text": [
      "/tmp/ipykernel_92734/3832080228.py:1: DeprecationWarning: Table accessor will be deprecated with SpatialData version 0.1, use sdata.tables instead.\n",
      "  sdata.table.var_names\n"
     ]
    },
    {
     "data": {
      "text/plain": [
       "Index(['channel_0_sum', 'channel_1_sum', 'channel_2_sum'], dtype='object')"
      ]
     },
     "execution_count": 17,
     "metadata": {},
     "output_type": "execute_result"
    }
   ],
   "source": [
    "sdata.table.var_names"
   ]
  },
  {
   "cell_type": "code",
   "execution_count": 18,
   "id": "cbeead98-27c6-4ac6-8277-bbd0e8829e05",
   "metadata": {},
   "outputs": [
    {
     "data": {
      "image/png": "[encoded data removed]",
      "text/plain": [
       "<Figure size 640x480 with 2 Axes>"
      ]
     },
     "metadata": {},
     "output_type": "display_data"
    }
   ],
   "source": [
    "sdata.pl.render_labels(\"blobs_labels\", color=\"channel_0_sum\", fill_alpha=1.0).pl.show()"
   ]
  },
  {
   "cell_type": "code",
   "execution_count": 19,
   "id": "fdf9ca6a-c812-4cb2-bcf3-d3ba1c72570d",
   "metadata": {},
   "outputs": [
    {
     "name": "stderr",
     "output_type": "stream",
     "text": [
      "/Users/macbook/miniconda3/envs/ome/lib/python3.10/site-packages/anndata/_core/anndata.py:522: FutureWarning: The dtype argument is deprecated and will be removed in late 2024.\n",
      "  warnings.warn(\n",
      "/Users/macbook/embl/projects/basel/spatialdata/src/spatialdata/_core/operations/aggregate.py:260: UserWarning: Converting `region_key: region` to categorical dtype.\n",
      "  table = TableModel.parse(table, region=shapes_name, region_key=region_key, instance_key=instance_key)\n"
     ]
    }
   ],
   "source": [
    "from spatialdata import to_circles\n",
    "\n",
    "sdata[\"labels_as_circles\"] = to_circles(sdata[\"blobs_labels\"])"
   ]
  },
  {
   "cell_type": "code",
   "execution_count": 20,
   "id": "ea0879b229cebd1b",
   "metadata": {
    "ExecuteTime": {
     "end_time": "2024-03-26T10:14:16.115655Z",
     "start_time": "2024-03-26T10:14:16.073894Z"
    },
    "collapsed": false,
    "jupyter": {
     "outputs_hidden": false
    }
   },
   "outputs": [],
   "source": [
    "sdata[\"table\"].obs[\"region\"] = \"labels_as_circles\"\n",
    "# no need to reassign the instance_key column 'instance_id' sicne the instances are the same as for labels\n",
    "sdata.set_table_annotates_spatialelement(\"table\", region=\"labels_as_circles\")"
   ]
  },
  {
   "cell_type": "code",
   "execution_count": 21,
   "id": "1af244b4-fdef-44c1-839e-d8f96d01ea30",
   "metadata": {},
   "outputs": [
    {
     "data": {
      "image/png": "[encoded data removed]",
      "text/plain": [
       "<Figure size 640x480 with 2 Axes>"
      ]
     },
     "metadata": {},
     "output_type": "display_data"
    }
   ],
   "source": [
    "sdata.pl.render_shapes(\"labels_as_circles\", color=\"channel_0_sum\").pl.show()"
   ]
  },
  {
   "cell_type": "markdown",
   "id": "7a1bbc9c648f5b55",
   "metadata": {
    "collapsed": false,
    "jupyter": {
     "outputs_hidden": false
    }
   },
   "source": [
    "### Construct a table annotating 0 `SpatialElements`\n",
    "Tables in `Spatialdata` are `AnnData` tables. Creating a table that does not annotate a `SpatialElement` is as simple as constructing an `Anndata` table. In this case the table should not contain `region`, `region_key` and `instance_key` metadata. Here an example of a table storing a dummy codebook:"
   ]
  },
  {
   "cell_type": "code",
   "execution_count": 22,
   "id": "b2e911c18e3b63be",
   "metadata": {
    "ExecuteTime": {
     "end_time": "2024-03-26T10:14:16.116815200Z",
     "start_time": "2024-03-26T10:14:16.091557400Z"
    },
    "collapsed": false,
    "jupyter": {
     "outputs_hidden": false
    }
   },
   "outputs": [
    {
     "data": {
      "text/html": [
       "<div>\n",
       "<style scoped>\n",
       "    .dataframe tbody tr th:only-of-type {\n",
       "        vertical-align: middle;\n",
       "    }\n",
       "\n",
       "    .dataframe tbody tr th {\n",
       "        vertical-align: top;\n",
       "    }\n",
       "\n",
       "    .dataframe thead th {\n",
       "        text-align: right;\n",
       "    }\n",
       "</style>\n",
       "<table border=\"1\" class=\"dataframe\">\n",
       "  <thead>\n",
       "    <tr style=\"text-align: right;\">\n",
       "      <th></th>\n",
       "      <th>Gene</th>\n",
       "      <th>barcode</th>\n",
       "    </tr>\n",
       "  </thead>\n",
       "  <tbody>\n",
       "    <tr>\n",
       "      <th>0</th>\n",
       "      <td>Gene1</td>\n",
       "      <td>03210</td>\n",
       "    </tr>\n",
       "    <tr>\n",
       "      <th>1</th>\n",
       "      <td>Gene2</td>\n",
       "      <td>23013</td>\n",
       "    </tr>\n",
       "    <tr>\n",
       "      <th>2</th>\n",
       "      <td>Gene3</td>\n",
       "      <td>30121</td>\n",
       "    </tr>\n",
       "  </tbody>\n",
       "</table>\n",
       "</div>"
      ],
      "text/plain": [
       "    Gene barcode\n",
       "0  Gene1   03210\n",
       "1  Gene2   23013\n",
       "2  Gene3   30121"
      ]
     },
     "execution_count": 22,
     "metadata": {},
     "output_type": "execute_result"
    }
   ],
   "source": [
    "from anndata import AnnData\n",
    "from spatialdata.models import TableModel\n",
    "\n",
    "codebook_table = AnnData(obs={\"Gene\": [\"Gene1\", \"Gene2\", \"Gene3\"], \"barcode\": [\"03210\", \"23013\", \"30121\"]})\n",
    "\n",
    "# We don't specify arguments related to metadata as we don't annotate a SpatialElement.\n",
    "sdata_table = TableModel.parse(codebook_table)\n",
    "sdata[\"codebook\"] = sdata_table\n",
    "sdata[\"codebook\"].obs"
   ]
  },
  {
   "cell_type": "markdown",
   "id": "0713685c-78a9-42f1-97aa-622b11fad4bf",
   "metadata": {},
   "source": [
    "### Construct a table annotating 1 or more `SpatialElement`s"
   ]
  },
  {
   "cell_type": "markdown",
   "id": "b995423b24d8c643",
   "metadata": {
    "collapsed": false,
    "jupyter": {
     "outputs_hidden": false
    }
   },
   "source": [
    "Now let us create a table that annotates multiple `SpatialElement`s. Note that the order of \n",
    "the indices does not have to match the order of the indices in the `SpatialElement`. To \n",
    "showcase this we perform a permutation of the indices. Also, the `dtype`of the index column \n",
    "of the `SpatialElement` must match the `dtype` of the `instance_key` column in the table. If \n",
    "this is not the case this will result in an error when trying to add the table to the \n",
    "`SpatialData` object. Lastly, not every index of the `SpatialElement` has to be present in \n",
    "the `instance_key` column of the `SpatialData` table and vice versa. We will later show \n",
    "functions to deal with these cases."
   ]
  },
  {
   "cell_type": "code",
   "execution_count": 23,
   "id": "4a1284206b9e1837",
   "metadata": {
    "ExecuteTime": {
     "end_time": "2024-03-26T10:14:16.148957600Z",
     "start_time": "2024-03-26T10:14:16.107352800Z"
    },
    "collapsed": false,
    "jupyter": {
     "outputs_hidden": false
    }
   },
   "outputs": [],
   "source": [
    "polygon_index = list(sdata.shapes[\"blobs_polygons\"].index)\n",
    "# We have to do a compute here as points are lazily loaded using dask.\n",
    "point_index = list(sdata[\"blobs_points\"].index.compute())\n",
    "\n",
    "region_column = [\"blobs_polygons\"] * len(polygon_index) + [\"blobs_points\"] * len(point_index)\n",
    "instance_id_column = polygon_index + point_index"
   ]
  },
  {
   "cell_type": "code",
   "execution_count": 24,
   "id": "268076f9ed8b8178",
   "metadata": {
    "ExecuteTime": {
     "end_time": "2024-03-26T10:14:16.165582200Z",
     "start_time": "2024-03-26T10:14:16.123176500Z"
    },
    "collapsed": false,
    "jupyter": {
     "outputs_hidden": false
    }
   },
   "outputs": [
    {
     "name": "stderr",
     "output_type": "stream",
     "text": [
      "/tmp/ipykernel_92734/3668489137.py:11: UserWarning: Converting `region_key: region` to categorical dtype.\n",
      "  sdata_table = TableModel.parse(\n"
     ]
    }
   ],
   "source": [
    "import numpy as np\n",
    "\n",
    "RNG = np.random.default_rng()\n",
    "table = AnnData(\n",
    "    X=np.zeros((len(region_column), 1)),\n",
    "    obs={\"region\": region_column, \"instance_id\": instance_id_column},\n",
    ")\n",
    "table = table[RNG.permutation(table.obs.index), :].copy()\n",
    "\n",
    "# Now we have to specify all 3 annotation metadata fields.\n",
    "sdata_table = TableModel.parse(\n",
    "    table, region=[\"blobs_polygons\", \"blobs_points\"], region_key=\"region\", instance_key=\"instance_id\"\n",
    ")\n",
    "\n",
    "# When adding the table now, it is validated for presence of annotation targets in the sdata object.\n",
    "sdata[\"annotations\"] = sdata_table"
   ]
  },
  {
   "cell_type": "markdown",
   "id": "547f707e-1a14-450f-b236-9fd5990745e5",
   "metadata": {
    "collapsed": false,
    "jupyter": {
     "outputs_hidden": false
    }
   },
   "source": [
    "## Performing SQL like joins\n",
    "In order to retrieve matching and non-matching parts of a `SpatialElement` and the annotating tables we \n",
    "can perform SQL like join operations on the table. For this, we have the function \n",
    "`join_spatialelement_table`. It takes as arguments:\n",
    "- the `SpatialData` object\n",
    "- `spatial_element_name` as either a `str` or a list of `str`\n",
    "- the table name as a `str`\n",
    "- the parameter `how` which indicates what kind of SQL like operation to perform (left, left_exclusive, inner, right or right_exclusive). \n",
    "- the `match_rows` argument, that you can use to match either to the indices of the `SpatialElement` (`left`) or the instance_key column of the table (`right`). The default here is `no`, so no matching.\n",
    "\n",
    "It is also possible to avoid passing the `SpatialData` object and directly pass a list of `SpatialElements` and a list of their names, please see the documentation for all the details."
   ]
  },
  {
   "cell_type": "markdown",
   "id": "123edc5d-9f96-4b2f-9291-36256076a233",
   "metadata": {
    "collapsed": false,
    "jupyter": {
     "outputs_hidden": false
    }
   },
   "source": [
    "![sql_joins](attachments/joins_small.png)"
   ]
  },
  {
   "cell_type": "markdown",
   "id": "54bd865401e9978",
   "metadata": {
    "collapsed": false,
    "jupyter": {
     "outputs_hidden": false
    }
   },
   "source": [
    "Let us now showcase the function by first removing some indices from `blobs_polygons`and then \n",
    "performing a join."
   ]
  },
  {
   "cell_type": "code",
   "execution_count": 25,
   "id": "9cce5bf3467c907b",
   "metadata": {
    "ExecuteTime": {
     "end_time": "2024-03-26T10:14:16.191371500Z",
     "start_time": "2024-03-26T10:14:16.135532700Z"
    },
    "collapsed": false,
    "jupyter": {
     "outputs_hidden": false
    }
   },
   "outputs": [
    {
     "name": "stdout",
     "output_type": "stream",
     "text": [
      "                                            geometry\n",
      "0  POLYGON ((340.197 258.214, 316.177 197.065, 29...\n",
      "1  POLYGON ((284.141 420.454, 267.249 371.319, 25...\n",
      "2  POLYGON ((203.195 229.528, 285.506 204.414, 19...\n"
     ]
    },
    {
     "name": "stderr",
     "output_type": "stream",
     "text": [
      "/Users/macbook/embl/projects/basel/spatialdata/src/spatialdata/_core/_elements.py:92: UserWarning: Key `blobs_polygons` already exists. Overwriting it.\n",
      "  self._check_key(key, self.keys(), self._shared_keys)\n",
      "/Users/macbook/embl/projects/basel/spatialdata/src/spatialdata/_core/query/relational_query.py:396: FutureWarning: The default of observed=False is deprecated and will be changed to True in a future version of pandas. Pass observed=False to retain current behavior or observed=True to adopt the future default and silence this warning.\n",
      "  groups_df = table.obs.groupby(by=region_column_name)\n"
     ]
    },
    {
     "data": {
      "text/html": [
       "<div>\n",
       "<style scoped>\n",
       "    .dataframe tbody tr th:only-of-type {\n",
       "        vertical-align: middle;\n",
       "    }\n",
       "\n",
       "    .dataframe tbody tr th {\n",
       "        vertical-align: top;\n",
       "    }\n",
       "\n",
       "    .dataframe thead th {\n",
       "        text-align: right;\n",
       "    }\n",
       "</style>\n",
       "<table border=\"1\" class=\"dataframe\">\n",
       "  <thead>\n",
       "    <tr style=\"text-align: right;\">\n",
       "      <th></th>\n",
       "      <th>region</th>\n",
       "      <th>instance_id</th>\n",
       "    </tr>\n",
       "  </thead>\n",
       "  <tbody>\n",
       "    <tr>\n",
       "      <th>1</th>\n",
       "      <td>blobs_polygons</td>\n",
       "      <td>1</td>\n",
       "    </tr>\n",
       "    <tr>\n",
       "      <th>2</th>\n",
       "      <td>blobs_polygons</td>\n",
       "      <td>2</td>\n",
       "    </tr>\n",
       "    <tr>\n",
       "      <th>0</th>\n",
       "      <td>blobs_polygons</td>\n",
       "      <td>0</td>\n",
       "    </tr>\n",
       "  </tbody>\n",
       "</table>\n",
       "</div>"
      ],
      "text/plain": [
       "           region  instance_id\n",
       "1  blobs_polygons            1\n",
       "2  blobs_polygons            2\n",
       "0  blobs_polygons            0"
      ]
     },
     "execution_count": 25,
     "metadata": {},
     "output_type": "execute_result"
    }
   ],
   "source": [
    "from spatialdata import join_spatialelement_table\n",
    "\n",
    "# This leaves the element with 3 shapes\n",
    "sdata[\"blobs_polygons\"] = sdata[\"blobs_polygons\"][:3]\n",
    "\n",
    "# We can now do a join with one spatial element\n",
    "element_dict, table = join_spatialelement_table(\n",
    "    sdata=sdata, spatial_element_names=\"blobs_polygons\", table_name=\"annotations\", how=\"left\"\n",
    ")\n",
    "print(element_dict[\"blobs_polygons\"])\n",
    "table.obs"
   ]
  },
  {
   "cell_type": "markdown",
   "id": "eb023ccbd5abd35",
   "metadata": {
    "collapsed": false,
    "jupyter": {
     "outputs_hidden": false
    }
   },
   "source": [
    "Above we see that the table only contains those annotations corresponding to shapes that are \n",
    "still in `blobs_polygons`. The `element_dict` only contains `SpatialElement`s used in the \n",
    "join. Let us now repeat the join but with the table rows matching the indices of \n",
    "`blobs_polygons`."
   ]
  },
  {
   "cell_type": "code",
   "execution_count": 26,
   "id": "e5304e689a8d8c0",
   "metadata": {
    "ExecuteTime": {
     "end_time": "2024-03-26T10:14:16.207908800Z",
     "start_time": "2024-03-26T10:14:16.151020700Z"
    },
    "collapsed": false,
    "jupyter": {
     "outputs_hidden": false
    }
   },
   "outputs": [
    {
     "name": "stdout",
     "output_type": "stream",
     "text": [
      "                                            geometry\n",
      "0  POLYGON ((340.197 258.214, 316.177 197.065, 29...\n",
      "1  POLYGON ((284.141 420.454, 267.249 371.319, 25...\n",
      "2  POLYGON ((203.195 229.528, 285.506 204.414, 19...\n"
     ]
    },
    {
     "name": "stderr",
     "output_type": "stream",
     "text": [
      "/Users/macbook/embl/projects/basel/spatialdata/src/spatialdata/_core/query/relational_query.py:396: FutureWarning: The default of observed=False is deprecated and will be changed to True in a future version of pandas. Pass observed=False to retain current behavior or observed=True to adopt the future default and silence this warning.\n",
      "  groups_df = table.obs.groupby(by=region_column_name)\n"
     ]
    },
    {
     "data": {
      "text/html": [
       "<div>\n",
       "<style scoped>\n",
       "    .dataframe tbody tr th:only-of-type {\n",
       "        vertical-align: middle;\n",
       "    }\n",
       "\n",
       "    .dataframe tbody tr th {\n",
       "        vertical-align: top;\n",
       "    }\n",
       "\n",
       "    .dataframe thead th {\n",
       "        text-align: right;\n",
       "    }\n",
       "</style>\n",
       "<table border=\"1\" class=\"dataframe\">\n",
       "  <thead>\n",
       "    <tr style=\"text-align: right;\">\n",
       "      <th></th>\n",
       "      <th>region</th>\n",
       "      <th>instance_id</th>\n",
       "    </tr>\n",
       "  </thead>\n",
       "  <tbody>\n",
       "    <tr>\n",
       "      <th>0</th>\n",
       "      <td>blobs_polygons</td>\n",
       "      <td>0</td>\n",
       "    </tr>\n",
       "    <tr>\n",
       "      <th>1</th>\n",
       "      <td>blobs_polygons</td>\n",
       "      <td>1</td>\n",
       "    </tr>\n",
       "    <tr>\n",
       "      <th>2</th>\n",
       "      <td>blobs_polygons</td>\n",
       "      <td>2</td>\n",
       "    </tr>\n",
       "  </tbody>\n",
       "</table>\n",
       "</div>"
      ],
      "text/plain": [
       "           region  instance_id\n",
       "0  blobs_polygons            0\n",
       "1  blobs_polygons            1\n",
       "2  blobs_polygons            2"
      ]
     },
     "execution_count": 26,
     "metadata": {},
     "output_type": "execute_result"
    }
   ],
   "source": [
    "element_dict, table = join_spatialelement_table(\n",
    "    sdata=sdata, spatial_element_names=\"blobs_polygons\", table_name=\"annotations\", how=\"left\", match_rows=\"left\"\n",
    ")\n",
    "print(element_dict[\"blobs_polygons\"])\n",
    "table.obs"
   ]
  },
  {
   "cell_type": "markdown",
   "id": "dd15e9d8cefae6ed",
   "metadata": {
    "collapsed": false,
    "jupyter": {
     "outputs_hidden": false
    }
   },
   "source": [
    "Let us now add the filtered annotations back to the `SpatialData` object. Since the new table is a subset of the original one, the `region` value may now have gone out of sync. We provide a convenience function that recompute the correct value for `region`. When in a future release we remove the use of `region` this extra step will not be needed."
   ]
  },
  {
   "cell_type": "code",
   "execution_count": 27,
   "id": "5525278e18c9fe11",
   "metadata": {
    "ExecuteTime": {
     "end_time": "2024-03-26T10:14:16.220431700Z",
     "start_time": "2024-03-26T10:14:16.166584800Z"
    },
    "collapsed": false,
    "jupyter": {
     "outputs_hidden": false
    }
   },
   "outputs": [],
   "source": [
    "table = sd.update_annotated_regions_metadata(table)\n",
    "sdata[\"filtered_annotations_blobs_polygons\"] = table"
   ]
  },
  {
   "cell_type": "markdown",
   "id": "64e57e2b3e33b537",
   "metadata": {
    "collapsed": false,
    "jupyter": {
     "outputs_hidden": false
    }
   },
   "source": [
    "Lastly, we can also do the join operation on multiple `SpatialElements` at the same time."
   ]
  },
  {
   "cell_type": "code",
   "execution_count": 28,
   "id": "fc32235f3e7e5ab1",
   "metadata": {
    "ExecuteTime": {
     "end_time": "2024-03-26T10:14:16.245205800Z",
     "start_time": "2024-03-26T10:14:16.182083700Z"
    },
    "collapsed": false,
    "jupyter": {
     "outputs_hidden": false
    }
   },
   "outputs": [
    {
     "name": "stderr",
     "output_type": "stream",
     "text": [
      "/Users/macbook/embl/projects/basel/spatialdata/src/spatialdata/_core/query/relational_query.py:396: FutureWarning: The default of observed=False is deprecated and will be changed to True in a future version of pandas. Pass observed=False to retain current behavior or observed=True to adopt the future default and silence this warning.\n",
      "  groups_df = table.obs.groupby(by=region_column_name)\n"
     ]
    },
    {
     "data": {
      "text/html": [
       "<div>\n",
       "<style scoped>\n",
       "    .dataframe tbody tr th:only-of-type {\n",
       "        vertical-align: middle;\n",
       "    }\n",
       "\n",
       "    .dataframe tbody tr th {\n",
       "        vertical-align: top;\n",
       "    }\n",
       "\n",
       "    .dataframe thead th {\n",
       "        text-align: right;\n",
       "    }\n",
       "</style>\n",
       "<table border=\"1\" class=\"dataframe\">\n",
       "  <thead>\n",
       "    <tr style=\"text-align: right;\">\n",
       "      <th></th>\n",
       "      <th>region</th>\n",
       "      <th>instance_id</th>\n",
       "    </tr>\n",
       "  </thead>\n",
       "  <tbody>\n",
       "    <tr>\n",
       "      <th>0</th>\n",
       "      <td>blobs_polygons</td>\n",
       "      <td>0</td>\n",
       "    </tr>\n",
       "    <tr>\n",
       "      <th>1</th>\n",
       "      <td>blobs_polygons</td>\n",
       "      <td>1</td>\n",
       "    </tr>\n",
       "    <tr>\n",
       "      <th>2</th>\n",
       "      <td>blobs_polygons</td>\n",
       "      <td>2</td>\n",
       "    </tr>\n",
       "    <tr>\n",
       "      <th>5</th>\n",
       "      <td>blobs_points</td>\n",
       "      <td>0</td>\n",
       "    </tr>\n",
       "    <tr>\n",
       "      <th>6</th>\n",
       "      <td>blobs_points</td>\n",
       "      <td>1</td>\n",
       "    </tr>\n",
       "    <tr>\n",
       "      <th>...</th>\n",
       "      <td>...</td>\n",
       "      <td>...</td>\n",
       "    </tr>\n",
       "    <tr>\n",
       "      <th>200</th>\n",
       "      <td>blobs_points</td>\n",
       "      <td>195</td>\n",
       "    </tr>\n",
       "    <tr>\n",
       "      <th>201</th>\n",
       "      <td>blobs_points</td>\n",
       "      <td>196</td>\n",
       "    </tr>\n",
       "    <tr>\n",
       "      <th>202</th>\n",
       "      <td>blobs_points</td>\n",
       "      <td>197</td>\n",
       "    </tr>\n",
       "    <tr>\n",
       "      <th>203</th>\n",
       "      <td>blobs_points</td>\n",
       "      <td>198</td>\n",
       "    </tr>\n",
       "    <tr>\n",
       "      <th>204</th>\n",
       "      <td>blobs_points</td>\n",
       "      <td>199</td>\n",
       "    </tr>\n",
       "  </tbody>\n",
       "</table>\n",
       "<p>203 rows × 2 columns</p>\n",
       "</div>"
      ],
      "text/plain": [
       "             region  instance_id\n",
       "0    blobs_polygons            0\n",
       "1    blobs_polygons            1\n",
       "2    blobs_polygons            2\n",
       "5      blobs_points            0\n",
       "6      blobs_points            1\n",
       "..              ...          ...\n",
       "200    blobs_points          195\n",
       "201    blobs_points          196\n",
       "202    blobs_points          197\n",
       "203    blobs_points          198\n",
       "204    blobs_points          199\n",
       "\n",
       "[203 rows x 2 columns]"
      ]
     },
     "execution_count": 28,
     "metadata": {},
     "output_type": "execute_result"
    }
   ],
   "source": [
    "element_dict, table = join_spatialelement_table(\n",
    "    sdata=sdata,\n",
    "    spatial_element_names=[\"blobs_polygons\", \"blobs_points\"],\n",
    "    table_name=\"annotations\",\n",
    "    how=\"left\",\n",
    "    match_rows=\"left\",\n",
    ")\n",
    "sdata[\"multi_filtered_table\"] = table\n",
    "table.obs"
   ]
  },
  {
   "cell_type": "code",
   "execution_count": 29,
   "id": "449756387c46e65d",
   "metadata": {
    "ExecuteTime": {
     "end_time": "2024-03-26T10:14:16.256490600Z",
     "start_time": "2024-03-26T10:14:16.198680300Z"
    },
    "collapsed": false,
    "jupyter": {
     "outputs_hidden": false
    }
   },
   "outputs": [
    {
     "name": "stdout",
     "output_type": "stream",
     "text": [
      "{'annotations': AnnData object with n_obs × n_vars = 205 × 1\n",
      "    obs: 'region', 'instance_id'\n",
      "    uns: 'spatialdata_attrs',\n",
      " 'codebook': AnnData object with n_obs × n_vars = 3 × 0\n",
      "    obs: 'Gene', 'barcode',\n",
      " 'filtered_annotations_blobs_polygons': AnnData object with n_obs × n_vars = 3 × 1\n",
      "    obs: 'region', 'instance_id'\n",
      "    uns: 'spatialdata_attrs',\n",
      " 'multi_filtered_table': AnnData object with n_obs × n_vars = 203 × 1\n",
      "    obs: 'region', 'instance_id'\n",
      "    uns: 'spatialdata_attrs',\n",
      " 'table': AnnData object with n_obs × n_vars = 26 × 3\n",
      "    obs: 'instance_id', 'region'\n",
      "    uns: 'spatialdata_attrs'}\n"
     ]
    }
   ],
   "source": [
    "from pprint import pprint\n",
    "\n",
    "# This tells us which tables we have in the SpatialData object\n",
    "pprint(sdata.tables)"
   ]
  },
  {
   "cell_type": "markdown",
   "id": "171b219b9557f058",
   "metadata": {
    "collapsed": false,
    "jupyter": {
     "outputs_hidden": false
    }
   },
   "source": [
    "So far we have shown that you can do join operations when the elements and the table are both in a `SpatialData` object. However, \n",
    "you can also perform this operation on `SpatialElement`s / tables outside `SpatialData` objects:"
   ]
  },
  {
   "cell_type": "code",
   "execution_count": 30,
   "id": "4f5109437129ce12",
   "metadata": {
    "ExecuteTime": {
     "end_time": "2024-03-26T10:15:12.354730500Z",
     "start_time": "2024-03-26T10:15:12.325127200Z"
    },
    "collapsed": false,
    "jupyter": {
     "outputs_hidden": false
    }
   },
   "outputs": [
    {
     "name": "stderr",
     "output_type": "stream",
     "text": [
      "/Users/macbook/embl/projects/basel/spatialdata/src/spatialdata/_core/query/relational_query.py:396: FutureWarning: The default of observed=False is deprecated and will be changed to True in a future version of pandas. Pass observed=False to retain current behavior or observed=True to adopt the future default and silence this warning.\n",
      "  groups_df = table.obs.groupby(by=region_column_name)\n",
      "/Users/macbook/embl/projects/basel/spatialdata/src/spatialdata/_core/_elements.py:112: UserWarning: Key `multi_filtered_table` already exists. Overwriting it.\n",
      "  self._check_key(key, self.keys(), self._shared_keys)\n"
     ]
    },
    {
     "data": {
      "text/html": [
       "<div>\n",
       "<style scoped>\n",
       "    .dataframe tbody tr th:only-of-type {\n",
       "        vertical-align: middle;\n",
       "    }\n",
       "\n",
       "    .dataframe tbody tr th {\n",
       "        vertical-align: top;\n",
       "    }\n",
       "\n",
       "    .dataframe thead th {\n",
       "        text-align: right;\n",
       "    }\n",
       "</style>\n",
       "<table border=\"1\" class=\"dataframe\">\n",
       "  <thead>\n",
       "    <tr style=\"text-align: right;\">\n",
       "      <th></th>\n",
       "      <th>region</th>\n",
       "      <th>instance_id</th>\n",
       "    </tr>\n",
       "  </thead>\n",
       "  <tbody>\n",
       "    <tr>\n",
       "      <th>0</th>\n",
       "      <td>blobs_polygons</td>\n",
       "      <td>0</td>\n",
       "    </tr>\n",
       "    <tr>\n",
       "      <th>1</th>\n",
       "      <td>blobs_polygons</td>\n",
       "      <td>1</td>\n",
       "    </tr>\n",
       "    <tr>\n",
       "      <th>2</th>\n",
       "      <td>blobs_polygons</td>\n",
       "      <td>2</td>\n",
       "    </tr>\n",
       "    <tr>\n",
       "      <th>5</th>\n",
       "      <td>blobs_points</td>\n",
       "      <td>0</td>\n",
       "    </tr>\n",
       "    <tr>\n",
       "      <th>6</th>\n",
       "      <td>blobs_points</td>\n",
       "      <td>1</td>\n",
       "    </tr>\n",
       "    <tr>\n",
       "      <th>...</th>\n",
       "      <td>...</td>\n",
       "      <td>...</td>\n",
       "    </tr>\n",
       "    <tr>\n",
       "      <th>200</th>\n",
       "      <td>blobs_points</td>\n",
       "      <td>195</td>\n",
       "    </tr>\n",
       "    <tr>\n",
       "      <th>201</th>\n",
       "      <td>blobs_points</td>\n",
       "      <td>196</td>\n",
       "    </tr>\n",
       "    <tr>\n",
       "      <th>202</th>\n",
       "      <td>blobs_points</td>\n",
       "      <td>197</td>\n",
       "    </tr>\n",
       "    <tr>\n",
       "      <th>203</th>\n",
       "      <td>blobs_points</td>\n",
       "      <td>198</td>\n",
       "    </tr>\n",
       "    <tr>\n",
       "      <th>204</th>\n",
       "      <td>blobs_points</td>\n",
       "      <td>199</td>\n",
       "    </tr>\n",
       "  </tbody>\n",
       "</table>\n",
       "<p>203 rows × 2 columns</p>\n",
       "</div>"
      ],
      "text/plain": [
       "             region  instance_id\n",
       "0    blobs_polygons            0\n",
       "1    blobs_polygons            1\n",
       "2    blobs_polygons            2\n",
       "5      blobs_points            0\n",
       "6      blobs_points            1\n",
       "..              ...          ...\n",
       "200    blobs_points          195\n",
       "201    blobs_points          196\n",
       "202    blobs_points          197\n",
       "203    blobs_points          198\n",
       "204    blobs_points          199\n",
       "\n",
       "[203 rows x 2 columns]"
      ]
     },
     "execution_count": 30,
     "metadata": {},
     "output_type": "execute_result"
    }
   ],
   "source": [
    "element_dict, table = join_spatialelement_table(\n",
    "    spatial_element_names=[\"blobs_polygons\", \"blobs_points\"],\n",
    "    spatial_elements=[sdata[\"blobs_polygons\"], sdata[\"blobs_points\"]],\n",
    "    table=sdata[\"annotations\"],\n",
    "    how=\"left\",\n",
    "    match_rows=\"left\",\n",
    ")\n",
    "sdata[\"multi_filtered_table\"] = table\n",
    "table.obs"
   ]
  },
  {
   "cell_type": "markdown",
   "id": "a1b137ad-d14b-494e-bd9f-c704f94cba3f",
   "metadata": {},
   "source": [
    "### A note on joins\n",
    "For the joins on `Shapes` and `Points` elements any type of join is supported and also any\n",
    "kind of matching is supported. For `Labels` elements however, only the left join is supported\n",
    "and also only `no` and `left` are supported for the argument `match_rows`. This because for `Labels` the SQL like join behaviour \n",
    "would otherwise be complex to implement due to masking out of particular labels potentially being an expensive operation. We also \n",
    "did not forsee a usecase for this. In case you have a use case for this, please get in touch with us by either opening an issue \n",
    "on [github](https://github.com/scverse/spatialdata) or via our [discourse](https://discourse.scverse.org/)."
   ]
  },
  {
   "cell_type": "markdown",
   "id": "9b7d6be2-a9e3-445c-a416-9725ee09c7ad",
   "metadata": {},
   "source": [
    "## A use case for table"
   ]
  },
  {
   "cell_type": "markdown",
   "id": "dfafc349-16bc-4829-b644-0e58bc5b2eef",
   "metadata": {},
   "source": [
    "We will now end the presentation on annotations with a high-level discussion of a use case that could be addressed with our framework.\n",
    "\n",
    "Suppose to have a microscopy image showing cells and to derive two cell segmentation masks from it, using two different algorithms. The segmentation masks may be similar but not identical: some cells may greatly overlap but others may be present in one segmentation but not in the other. Also, you may be interested in storing some annotations for the cells of the two segmentation masks, such as gene expression and image features.\n",
    "\n",
    "You may want to compare the two segmentation masks based on spatial overlap and match/subset the tables to the common instances. This use case can be addresed using the [SOPA](https://gustaveroussy.github.io/sopa/), a tool relying on the `spatialdata` infrastructure.\n",
    "\n",
    "In particular, the use case described above require the following steps, available in `spatialdata` and/or in `SOPA`:\n",
    "- store the microscopy image and the two segmentation masks (labels objects)\n",
    "- store the gene expression and image feature information for each of the two segmentation masks\n",
    "- (implemented in SOPA) convert the segmentation masks to shapes element (`GeoDataFrame` objects of polygons/multipolygons)\n",
    "- change the annotation target of the tables from the labels to the newly created shapes elements\n",
    "- (implemented in SOPA) match the polygonal segmentation masks based on spatial overlap using the `geopandas` APIs\n",
    "- filter/match the tables with the new set of common cells using the `spatialdata` join operations"
   ]
  },
  {
   "attachments": {},
   "cell_type": "markdown",
   "id": "90bcae23-8e64-4f1e-b320-566f57272eb1",
   "metadata": {},
   "source": [
    "![multi_table_example](attachments/multi_table_example.png)"
   ]
  }
 ],
 "metadata": {
  "kernelspec": {
   "display_name": "Python 3 (ipykernel)",
   "language": "python",
   "name": "python3"
  },
  "language_info": {
   "codemirror_mode": {
    "name": "ipython",
    "version": 3
   },
   "file_extension": ".py",
   "mimetype": "text/x-python",
   "name": "python",
   "nbconvert_exporter": "python",
   "pygments_lexer": "ipython3",
   "version": "3.10.13"
  }
 },
 "nbformat": 4,
 "nbformat_minor": 5
}
