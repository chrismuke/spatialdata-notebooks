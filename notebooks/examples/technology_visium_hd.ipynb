{
 "cells": [
  {
   "cell_type": "markdown",
   "id": "3f0d9a71-f240-4689-a6be-ef0b9f065c69",
   "metadata": {},
   "source": [
    "# Technology focus: Visium HD"
   ]
  },
  {
   "cell_type": "markdown",
   "id": "dc267842-b304-4616-9fb7-70dd05c6c4cb",
   "metadata": {},
   "source": [
    "In this notebook, we will present an overview of the plotting functionalities of the `spatialdata` framework in the context of a Visium HD dataset."
   ]
  },
  {
   "cell_type": "markdown",
   "id": "aeab8be8-097f-4c8f-9e0c-2d13fcd15200",
   "metadata": {},
   "source": [
    "## Challenges in plotting the data\n",
    "\n",
    "Before showing the code, here is are some short considerations on the challenges that arise when handling and plotting Visium HD data, and how we provide methods to address them within the `spatialdata` framework.\n",
    "\n",
    "### Data dimensions\n",
    "\n",
    "Let's first have a quick recap of the data dimensions on hand.\n",
    "- The Visium HD capture location area is 6.5mm x 6.5mm in size.\n",
    "- The smallest capture locations (bins) are 2µm x 2µm, leading to up to around 10.5 million bins per dataset.\n",
    "- In the dataset used in this notebook, around 20000 genes are considered.\n",
    "- The data is very sparse. In the dataset used in this notebook, only around 5.5 million of the bins are actually covering parts of the tissue where gene expression is detected. Even within these bins, most of the genes are not expressed (more on this below).\n",
    "\n",
    "### Raster vs vector data representation\n",
    "\n",
    "The bins are arranged in a 3250 x 3250 regular grid, so a natural way to represent the data would be as an image. Nevertheless, due to large number of genes, using a purely raster representation is not feasible.\n",
    "In fact, assuming using a `uint8` data type (1 byte) for recording, for each bin, a number from 0 to 255, rasterizing the full data would require 3250 x 3250 x 19059 = 187 GBs!\n",
    "\n",
    "A more memory-efficient approach, that we adopt, is to decouple the spatial locations and the gene expression information:\n",
    "- spatial locations are represented as vector geometries (squares (default), circles or points) and are at most around 10.5 million;\n",
    "- gene expression information is stored as a `AnnData` table with sparse compressed representation (compressed sparse rows by default); in this dataset there are around 130 million non-zero entries.\n",
    "\n",
    "For the current dataset, assuming 1 byte per table entry, this would require around 130 MB of memory, much less than the upper limit 187 GB.\n",
    "\n",
    "### The data representation is flexible\n",
    "\n",
    "As we said above, we represent Visium HD data as a combination of squares and `AnnData` tables with a compressed sparse rows matrix. Nevertheless, there are cases where the user may have specific need for a data representation over the other; here is a list of examples of what `spatialdata` offers.\n",
    "\n",
    "- The compressed sparse rows matrix representation efficiently accesses all the genes expressed in a particular bin; there are cases where one wants to go the other way around and efficiently access all the locations expressing a particular gene. The `AnnData` API `tocsc()` allows switching to a compressed sparse column representation.\n",
    "- Raster vs vector representation. We explained above that a fully rasterized version of the data is not memory efficient; nevertheless, if the user just wants to visualize a small number of genes, the memory impact would be small. In such cases, visualizing with raster objects is generally much more performant than visualizing shapes and geometries. Thanks to the function `rasterize_bins()`, we can construct a lazy image that computes a rasterization on-demand, bridging the benefit of our lightweight vector data representation and in-memory raster representation. As we will explain, the `rasterize_bins()` produces a raster image that is aware of the coordinate transformations, so no matter the bin size considered, the data is always aligned with the high-resolution H&E image.\n",
    "\n",
    "We will show all of this below."
   ]
  },
  {
   "cell_type": "code",
   "id": "4c059777-0354-4ed7-a848-14e442ca34af",
   "metadata": {},
   "source": [
    "%load_ext jupyter_black\n",
    "%load_ext autoreload\n",
    "%autoreload 2"
   ],
   "outputs": [],
   "execution_count": null
  },
  {
   "cell_type": "markdown",
   "id": "0ef07784-a866-481b-a484-beeb19a034d1",
   "metadata": {},
   "source": [
    "## Loading the data"
   ]
  },
  {
   "cell_type": "markdown",
   "id": "5c52d4d2-3c7a-4586-9946-cbe5dd83c9f8",
   "metadata": {},
   "source": [
    "A reader for Visium HD data is available in `spatialdata-io`. We used it to parse and convert to Zarr a [Visium HD dataset of a Mouse Small Intestine (FFPE)](https://www.10xgenomics.com/datasets/visium-hd-cytassist-gene-expression-libraries-of-mouse-intestine).\n",
    "\n",
    "We provide the already-converted Zarr data [available for download here](https://s3.embl.de/spatialdata/spatialdata-sandbox/visium_hd_3.0.0_io.zip).\n",
    "\n",
    "Please download the data, rename the `.zarr` store to `visium_hd.zarr` and place it in the current folder (in alternative you can use symlinks to make the data visible)."
   ]
  },
  {
   "cell_type": "code",
   "id": "3f1bd970-13dc-444b-ae61-6d9bf844de4b",
   "metadata": {},
   "source": [
    "visium_hd_zarr_path = \"./visium_hd.zarr\""
   ],
   "outputs": [],
   "execution_count": null
  },
  {
   "cell_type": "markdown",
   "id": "3113fee0-dcd1-47a3-bc16-885b144e3473",
   "metadata": {},
   "source": [
    "A note on data loading. The data requires ~10 seconds to load because, while we support the lazy representation of images, labels, and points, the shapes, geometries, and annotation tables are currently not represented lazily. This is one of the first spatial omics datasets that reaches a scale for which this is required. We will make a new release to allow for lazy representation also of these data types. See the discussion here https://github.com/scverse/spatialdata/issues/293#issuecomment-1657290681."
   ]
  },
  {
   "cell_type": "code",
   "id": "af93b905-28fb-4167-b765-059c148ca3bc",
   "metadata": {},
   "source": [
    "%%time\n",
    "import spatialdata as sd\n",
    "import spatialdata_plot  # noqa: F401\n",
    "\n",
    "sdata = sd.read_zarr(visium_hd_zarr_path)\n",
    "sdata"
   ],
   "outputs": [],
   "execution_count": null
  },
  {
   "cell_type": "markdown",
   "id": "7d4231e0-fe3b-4ae9-bfaa-8a95c424748c",
   "metadata": {},
   "source": [
    "The dataset contains 1 large microscopy image, represented as a multiscale, chunked image, two explicit downscaled versions of it, and one CytAssist image.\n",
    "\n",
    "Also, the image dataset contains the data at the highest resolution (2µm bins) and two downsampled (binned) versions of it, which have respectively bin sizes of 8µm and 16µm."
   ]
  },
  {
   "cell_type": "code",
   "id": "4f548a36-14e1-4055-b738-20b3be502bb1",
   "metadata": {},
   "source": [
    "# let's make the var names unique; this improves performance in accessing the tabular data and is necessary to be able to plot the data\n",
    "for table in sdata.tables.values():\n",
    "    table.var_names_make_unique()"
   ],
   "outputs": [],
   "execution_count": null
  },
  {
   "cell_type": "markdown",
   "id": "6e61f5bd-4a7b-4d03-a2d4-b1e6023ab46a",
   "metadata": {},
   "source": [
    "## Plotting the images"
   ]
  },
  {
   "cell_type": "markdown",
   "id": "e8a3e9c8-f229-4692-8bde-a9abfb5fd55c",
   "metadata": {},
   "source": [
    "Let's visualize the images."
   ]
  },
  {
   "cell_type": "code",
   "id": "88f696a8-4761-4bd0-b1f0-1b16edcdf726",
   "metadata": {},
   "source": [
    "import matplotlib.pyplot as plt\n",
    "\n",
    "axes = plt.subplots(1, 2, figsize=(10, 5))[1].flatten()\n",
    "sdata.pl.render_images(\"Visium_HD_Mouse_Small_Intestine_full_image\").pl.show(ax=axes[0], title=\"Full image\")\n",
    "sdata.pl.render_images(\"Visium_HD_Mouse_Small_Intestine_cytassist_image\").pl.show(ax=axes[1], title=\"CytAssit image\")"
   ],
   "outputs": [],
   "execution_count": null
  },
  {
   "cell_type": "markdown",
   "id": "c3e55c75-e967-477d-9a56-eef4433ae311",
   "metadata": {},
   "source": [
    "Let's plot the same range for the 2 images; to achieve this we first compute the extent of the first image with `spatialdata.get_extent()` and then crop the second data using the `spatialdata` query APIs.\n",
    "\n",
    "Please note that setting the plotting lim (`ax.set_xlim()`, ...) after plotting may lead to lower image quality because the data is plotted at the optimal resolution for the full extent, but then a portion of it is zoomed in."
   ]
  },
  {
   "cell_type": "code",
   "id": "9ef57701-7920-49ef-a2d6-fed3457289c8",
   "metadata": {},
   "source": [
    "from spatialdata import get_extent\n",
    "\n",
    "data_extent = get_extent(\n",
    "    sdata[\"Visium_HD_Mouse_Small_Intestine_full_image\"], coordinate_system=\"Visium_HD_Mouse_Small_Intestine\"\n",
    ")\n",
    "data_extent"
   ],
   "outputs": [],
   "execution_count": null
  },
  {
   "cell_type": "code",
   "id": "c0157c6a-8b5a-4f83-bcd8-069ce45ee5fc",
   "metadata": {},
   "source": [
    "from spatialdata import bounding_box_query\n",
    "\n",
    "queried_cytassist = bounding_box_query(\n",
    "    sdata[\"Visium_HD_Mouse_Small_Intestine_cytassist_image\"],\n",
    "    min_coordinate=[data_extent[\"x\"][0], data_extent[\"y\"][0]],\n",
    "    max_coordinate=[data_extent[\"x\"][1], data_extent[\"y\"][1]],\n",
    "    axes=(\"x\", \"y\"),\n",
    "    target_coordinate_system=\"Visium_HD_Mouse_Small_Intestine\",\n",
    ")\n",
    "sdata[\"queried_cytassist\"] = queried_cytassist"
   ],
   "outputs": [],
   "execution_count": null
  },
  {
   "cell_type": "code",
   "id": "178cb07a-6f8c-4fc3-9bb6-9447490d031a",
   "metadata": {},
   "source": [
    "axes = plt.subplots(1, 2, figsize=(10, 5))[1].flatten()\n",
    "sdata.pl.render_images(\"Visium_HD_Mouse_Small_Intestine_full_image\").pl.show(ax=axes[0], title=\"Full image\")\n",
    "sdata.pl.render_images(\"queried_cytassist\").pl.show(ax=axes[1], title=\"CytAssit image\")"
   ],
   "outputs": [],
   "execution_count": null
  },
  {
   "cell_type": "markdown",
   "id": "f2968e3c-2b4f-4a17-9497-ce252d25557c",
   "metadata": {},
   "source": [
    "Let's focus the visualization on a smaller region so we can appreciate the better resolution of the first image. Here, we create cropped versions of the `SpatialData` objects on the fly using an anonymous function."
   ]
  },
  {
   "cell_type": "code",
   "id": "426bcaca-903c-418e-8b37-721ec20e89b6",
   "metadata": {},
   "source": [
    "axes = plt.subplots(1, 2, figsize=(10, 5))[1].flatten()\n",
    "\n",
    "\n",
    "def crop0(x):\n",
    "    return bounding_box_query(\n",
    "        x,\n",
    "        min_coordinate=[5000, 8000],\n",
    "        max_coordinate=[10000, 13000],\n",
    "        axes=(\"x\", \"y\"),\n",
    "        target_coordinate_system=\"Visium_HD_Mouse_Small_Intestine\",\n",
    "    )\n",
    "\n",
    "\n",
    "crop0(sdata).pl.render_images(\"Visium_HD_Mouse_Small_Intestine_full_image\").pl.show(\n",
    "    ax=axes[0], title=\"Full image\", coordinate_systems=\"Visium_HD_Mouse_Small_Intestine\"\n",
    ")\n",
    "crop0(sdata).pl.render_images(\"queried_cytassist\").pl.show(\n",
    "    ax=axes[1], title=\"CytAssit image\", coordinate_systems=\"Visium_HD_Mouse_Small_Intestine\"\n",
    ")"
   ],
   "outputs": [],
   "execution_count": null
  },
  {
   "cell_type": "markdown",
   "id": "292a3bbd-8ed5-4a88-8a75-437896f57d65",
   "metadata": {},
   "source": [
    "## Plotting the gene expression data"
   ]
  },
  {
   "cell_type": "markdown",
   "id": "ba29a8b8-d433-4e99-8aad-f5e823e48916",
   "metadata": {},
   "source": [
    "Let's plot the bins colored by gene expression. For now, we will use the largest bin size. Later in the notebook, we will make plots using the two smaller bin sizes on a cropped version of the data. \n",
    "\n",
    "We will first plot the data as they are natively represented (squares), then show how to efficiently plot a rasterized version using `rasterize_bins()`."
   ]
  },
  {
   "cell_type": "markdown",
   "id": "a29c379b-510c-4477-b744-6b3d959a4762",
   "metadata": {},
   "source": [
    "### Plotting the vector geometries"
   ]
  },
  {
   "cell_type": "markdown",
   "id": "4142fa84-39b3-4835-a7a3-3e9f1cd8c0fe",
   "metadata": {},
   "source": [
    "The following code plots the data where the bins are represented as vector geometries."
   ]
  },
  {
   "cell_type": "code",
   "id": "718adc98-3cad-4f7d-b132-674a81de556a",
   "metadata": {},
   "source": [
    "%%time\n",
    "plt.figure(figsize=(10, 10))\n",
    "ax = plt.gca()\n",
    "\n",
    "gene_name = \"AA986860\"\n",
    "sdata.pl.render_shapes(\"Visium_HD_Mouse_Small_Intestine_square_016um\", color=gene_name, method=\"datashader\").pl.show(\n",
    "    coordinate_systems=\"Visium_HD_Mouse_Small_Intestine\", ax=ax\n",
    ")"
   ],
   "outputs": [],
   "execution_count": null
  },
  {
   "cell_type": "markdown",
   "id": "0a5fed81-0905-47dc-9d55-a1152222a33b",
   "metadata": {},
   "source": [
    "### Performant on-the-fly data rasterization"
   ]
  },
  {
   "cell_type": "markdown",
   "id": "1b80d068-f9bb-45b2-8729-24fe88b5e1fe",
   "metadata": {},
   "source": [
    "Let's now pre-compute a lazy-rasterized version of the data using `rasterize_bins()`. This operation takes just a few seconds and unlocks very fast on-demand channel-wise rasterization."
   ]
  },
  {
   "cell_type": "code",
   "id": "7bc79afa-c01e-4d81-9426-b3dd4a0faf71",
   "metadata": {},
   "source": [
    "%%time\n",
    "from spatialdata import rasterize_bins\n",
    "\n",
    "for bin_size in [\"016\", \"008\", \"002\"]:\n",
    "    # rasterize_bins() requires a compresed sparse column (csc) matrix\n",
    "    sdata.tables[f\"square_{bin_size}um\"].X = sdata.tables[f\"square_{bin_size}um\"].X.tocsc()\n",
    "    rasterized = rasterize_bins(\n",
    "        sdata,\n",
    "        f\"Visium_HD_Mouse_Small_Intestine_square_{bin_size}um\",\n",
    "        f\"square_{bin_size}um\",\n",
    "        \"array_col\",\n",
    "        \"array_row\",\n",
    "    )\n",
    "    sdata[f\"rasterized_{bin_size}um\"] = rasterized"
   ],
   "outputs": [],
   "execution_count": null
  },
  {
   "cell_type": "markdown",
   "id": "0464a07a-90e1-4cf3-8a61-b4bc91a75f84",
   "metadata": {},
   "source": [
    "This produces lazy image objects that can be accessed gene-wise exceptionally efficiently. \n",
    "\n",
    "Importantly, these objects should **not** be computed as a whole, because this would lead to the unnecessary computation of hundreds of GB of memory."
   ]
  },
  {
   "cell_type": "code",
   "id": "f0a80c44-062f-4082-8cc5-25272d8e0320",
   "metadata": {},
   "source": [
    "%%time\n",
    "# this is very fast\n",
    "sdata[\"rasterized_002um\"].sel(c=gene_name).compute()\n",
    "# this must not be called\n",
    "# sdata[\"rasterized_002um\"].compute()"
   ],
   "outputs": [],
   "execution_count": null
  },
  {
   "cell_type": "markdown",
   "id": "85c5af0b-d082-442b-8ca3-5dcfd8ff543c",
   "metadata": {},
   "source": [
    "Here is an example of how to plot the rasterized data. Please pay attention to setting `scale=\"full\"`; this is essential. If it is not set, `spatialdata-plot` will try\n",
    "to re-rasterize the data to fit the canvas size and try to compute the whole object."
   ]
  },
  {
   "cell_type": "code",
   "id": "94ae33c7-1181-4655-a994-23494215b74d",
   "metadata": {},
   "source": [
    "%%time\n",
    "plt.figure(figsize=(10, 10))\n",
    "ax = plt.gca()\n",
    "\n",
    "sdata.pl.render_images(\"rasterized_016um\", channel=gene_name, scale=\"full\").pl.show(\n",
    "    coordinate_systems=\"Visium_HD_Mouse_Small_Intestine\", ax=ax\n",
    ")"
   ],
   "outputs": [],
   "execution_count": null
  },
  {
   "cell_type": "markdown",
   "id": "dec8bee0-2767-44ca-aabd-9978079506df",
   "metadata": {},
   "source": [
    "As you can see below, we can plot the 2µm bins very performantly, which would not be possible with the `matplotlib` based approach shown before.\n",
    "\n",
    "Note: when we plot the full data below the plot appears as uniformly violet. This happens because the data is very sparse and the bins are too small for the target figure size; since most of the non-zero bins are 1s the final interpolated colors are very close to the zero value and difficult to see.\n",
    "\n",
    "Let's therefore:\n",
    "1) change the limits of the plot to show a portion of the data to avoid interpolation artifacts\n",
    "2) plot a binary mask of the full data to avoid the interpolated data to be to close to 0."
   ]
  },
  {
   "cell_type": "code",
   "id": "9f3f00f9-dfb3-4fad-8f45-7e4aab8b06c1",
   "metadata": {},
   "source": [
    "%%time\n",
    "\n",
    "from spatialdata_plot.pl.utils import set_zero_in_cmap_to_transparent\n",
    "\n",
    "for change_limits in [False, True]:\n",
    "    plt.figure(figsize=(10, 10))\n",
    "    ax = plt.gca()\n",
    "    sdata.pl.render_images(\"rasterized_002um\", channel=gene_name, scale=\"full\").pl.show(\n",
    "        coordinate_systems=\"Visium_HD_Mouse_Small_Intestine\", ax=ax\n",
    "    )\n",
    "    sdata[\"rasterized_002um\"]\n",
    "    if change_limits:\n",
    "        plt.xlim([14000, 15000])\n",
    "        plt.ylim([14000, 15000])\n",
    "plt.show()"
   ],
   "outputs": [],
   "execution_count": null
  },
  {
   "cell_type": "code",
   "id": "9e2d24e8-0e62-4c28-b520-a7284c77ea16",
   "metadata": {},
   "source": [
    "from matplotlib.colors import ListedColormap\n",
    "\n",
    "# define the colors for the colormap (black for zeros, white for > 0)\n",
    "colors = [\"#000000\", \"#ffffff\"]  # Black, White\n",
    "cmap = ListedColormap(colors)\n",
    "\n",
    "plt.figure(figsize=(10, 10))\n",
    "\n",
    "# bug: interpolation artifact, everything is black with a few sporadic white points: https://github.com/scverse/spatialdata-plot/issues/351\n",
    "# ax = plt.gca()\n",
    "# let's set a small vmax value so that the color is white also after interpolation\n",
    "# sdata.pl.render_images(\"rasterized_002um\", channel=gene_name, scale=\"full\", vmin=0, vmax=0.01, cmap=cmap).pl.show(\n",
    "# coordinate_systems=\"global\", ax=ax\n",
    "# )\n",
    "\n",
    "# workaround\n",
    "plt.imshow(sdata[\"rasterized_002um\"].sel(c=gene_name).data.compute(), cmap=cmap, vmin=0, vmax=0.01)\n",
    "plt.colorbar()\n",
    "\n",
    "plt.show()"
   ],
   "outputs": [],
   "execution_count": null
  },
  {
   "cell_type": "markdown",
   "id": "5e909da0-9eca-48a9-b4fd-8e448eccd265",
   "metadata": {},
   "source": [
    "As a final not on the on-the-fly rasterization approach. Please, by looking at the corners of the last plot, notice how the data is on a grid that is actually sligthly rotated.\n",
    "The advantage of using `rasterize_bins()` is that the produced object contains the coordinate transformations necessary to align (rotation and scale) the rasterized data together\n",
    "with the high-resolution images."
   ]
  },
  {
   "cell_type": "markdown",
   "id": "3ca6cd00-912b-4236-96a6-156fd094e66a",
   "metadata": {},
   "source": [
    "### Plotting subsets of the data"
   ]
  },
  {
   "cell_type": "markdown",
   "id": "4adc0b96-3e23-49c2-818f-26a1fdd56e8e",
   "metadata": {},
   "source": [
    "Let's crop the data and make plots for all the bin sizes."
   ]
  },
  {
   "cell_type": "code",
   "id": "5ffd4223-8f99-4efb-9393-3946e54f1a92",
   "metadata": {},
   "source": [
    "sdata_small = sdata.query.bounding_box(\n",
    "    min_coordinate=[7000, 11000],\n",
    "    max_coordinate=[10000, 14000],\n",
    "    axes=(\"x\", \"y\"),\n",
    "    target_coordinate_system=\"Visium_HD_Mouse_Small_Intestine\",\n",
    ")"
   ],
   "outputs": [],
   "execution_count": null
  },
  {
   "cell_type": "code",
   "id": "96961629-93e0-4048-8f66-8d40884a423e",
   "metadata": {},
   "source": [
    "gene_name = \"AA986860\"\n",
    "sdata_small.pl.render_shapes(\"Visium_HD_Mouse_Small_Intestine_square_016um\", color=gene_name).pl.show(\n",
    "    coordinate_systems=\"Visium_HD_Mouse_Small_Intestine\"\n",
    ")"
   ],
   "outputs": [],
   "execution_count": null
  },
  {
   "cell_type": "markdown",
   "id": "38a53cdc-8b24-443c-8ca0-623faa1f2540",
   "metadata": {},
   "source": [
    "Notice how a *Moiré pattern* is visible. This is due to the fact that the grid is not axis-aligned but presents a small rotation. A solution is to switch to datashader as a backend (which is enabled by default when the number of geometries is large). This will create some artifacts (bins of different sizes, some \"holes\" in the plot), but generally is expected to mitigate the effects as opposed the plot above."
   ]
  },
  {
   "cell_type": "code",
   "id": "8cc72c90-62ea-44bf-a867-126ed5cf5c39",
   "metadata": {},
   "source": [
    "gene_name = \"AA986860\"\n",
    "sdata_small.pl.render_shapes(\n",
    "    \"Visium_HD_Mouse_Small_Intestine_square_016um\", color=gene_name, method=\"datashader\"\n",
    ").pl.show(coordinate_systems=\"Visium_HD_Mouse_Small_Intestine\")"
   ],
   "outputs": [],
   "execution_count": null
  },
  {
   "cell_type": "code",
   "id": "bd05c2a6-b7db-463c-bd1c-6f635bd0b893",
   "metadata": {},
   "source": [
    "gene_name = \"AA986860\"\n",
    "\n",
    "for bin_size in [16, 8, 2]:\n",
    "    sdata_small.pl.render_shapes(\n",
    "        f\"Visium_HD_Mouse_Small_Intestine_square_{bin_size:03}um\",\n",
    "        color=gene_name,\n",
    "        method=\"datashader\",\n",
    "    ).pl.show(coordinate_systems=\"Visium_HD_Mouse_Small_Intestine\", title=f\"bin_size={bin_size}µm\", figsize=(10, 10))"
   ],
   "outputs": [],
   "execution_count": null
  },
  {
   "cell_type": "markdown",
   "id": "ff1748be-dad2-4d8e-8902-223d854523c6",
   "metadata": {},
   "source": [
    "The data present a lot of sparsity. Let's remake the plots above by visualizing only the non-zero entries and using the full-resolution image as a background.\n",
    "\n",
    "We will do this by modifying the viridis colormap so that 0 is plotted as transparent. Let's also truncate the viridis colormap so that the highest value is colored green and not yellow since green has a better contrast against the pink of the H&E microscopy image."
   ]
  },
  {
   "cell_type": "code",
   "id": "40ad666f-6880-42be-82e7-b43d8f665108",
   "metadata": {},
   "source": [
    "# let's display the areas where no expression is detected as transparent\n",
    "new_cmap = set_zero_in_cmap_to_transparent(cmap=\"viridis\")\n",
    "new_cmap"
   ],
   "outputs": [],
   "execution_count": null
  },
  {
   "cell_type": "code",
   "id": "b62c1c6b-b58c-4f52-a516-b1e36ed0a0b6",
   "metadata": {},
   "source": [
    "gene_name = \"AA986860\"\n",
    "\n",
    "for bin_size in [16, 8]:\n",
    "    sdata_small.pl.render_images(\"Visium_HD_Mouse_Small_Intestine_full_image\").pl.render_shapes(\n",
    "        f\"Visium_HD_Mouse_Small_Intestine_square_{bin_size:03}um\", color=gene_name, cmap=new_cmap\n",
    "    ).pl.show(coordinate_systems=\"Visium_HD_Mouse_Small_Intestine\", title=f\"bin_size={bin_size}µm\", figsize=(10, 10))"
   ],
   "outputs": [],
   "execution_count": null
  },
  {
   "cell_type": "code",
   "id": "3fcb1d4cbcb037ba",
   "metadata": {},
   "source": [
    "sdata_small"
   ],
   "outputs": [],
   "execution_count": null
  },
  {
   "cell_type": "markdown",
   "id": "2a564800-1646-4e84-a579-497bb4b35699",
   "metadata": {},
   "source": [
    "Let's make a zoomed version of the plot for the 2µm bins to better visualize them. Please notice that we pass `method='matplotlib'` as currently this is required in order to visualize the background as transparent by means of the modified colormap."
   ]
  },
  {
   "cell_type": "code",
   "id": "31a66a54-13ed-489c-805d-dcecfd53959a",
   "metadata": {},
   "source": [
    "def crop1(x):\n",
    "    return bounding_box_query(\n",
    "        x,\n",
    "        min_coordinate=[9000, 11000],\n",
    "        max_coordinate=[10000, 12000],\n",
    "        axes=(\"x\", \"y\"),\n",
    "        target_coordinate_system=\"Visium_HD_Mouse_Small_Intestine\",\n",
    "    )\n",
    "\n",
    "\n",
    "crop1(sdata_small).pl.render_images(\"Visium_HD_Mouse_Small_Intestine_full_image\").pl.render_shapes(\n",
    "    \"Visium_HD_Mouse_Small_Intestine_square_002um\", color=gene_name, cmap=new_cmap, method=\"matplotlib\"\n",
    ").pl.show(coordinate_systems=\"Visium_HD_Mouse_Small_Intestine\", title=\"bin_size=2µm\", figsize=(10, 10))"
   ],
   "outputs": [],
   "execution_count": null
  },
  {
   "cell_type": "markdown",
   "id": "7cbffdcf-a1d2-43fc-b7f9-dd5e2698f4c8",
   "metadata": {},
   "source": [
    "As you can see the 8µm bins are convenient for looking at gene expression distribution from a broad perspective (same for the 16µm bins, where some resolution can be sacrificed in exchange for a faster visualization). On the other hand, the 2µm bins allow to precisely locate the expressed genes in the tissue."
   ]
  },
  {
   "cell_type": "markdown",
   "id": "b19de068-3a80-4c62-9cf4-febec2238383",
   "metadata": {},
   "source": [
    "## Plotting clusters"
   ]
  },
  {
   "cell_type": "markdown",
   "id": "83a83935-2a1f-4466-ac5a-fe3ee03de734",
   "metadata": {},
   "source": [
    "Let's now color the 16µm bins by cluster identity. Let's reuse the clusters `gene_expression_graphclust` computed from 10x Genomics and available with the raw data from the 10x Genomics website."
   ]
  },
  {
   "cell_type": "code",
   "id": "2fa822ad-87ec-46c0-a8fb-6df8d058be18",
   "metadata": {},
   "source": [
    "import os\n",
    "from tempfile import TemporaryDirectory\n",
    "\n",
    "import pandas as pd\n",
    "import requests\n",
    "\n",
    "# For convenience we rehost the single file containing the clusters we are interested in.\n",
    "# Let's download it in a temporary directory and read it in a pandas DataFrame. The file is 2 MB.\n",
    "clusters_file_url = \"https://s3.embl.de/spatialdata/misc/visium_hd_mouse_intestine_16um_graphclust.csv\"\n",
    "\n",
    "with TemporaryDirectory() as tmpdir:\n",
    "    path = os.path.join(tmpdir, \"data.csv\")\n",
    "    response = requests.get(clusters_file_url)\n",
    "    with open(path, \"wb\") as f:\n",
    "        f.write(response.content)\n",
    "    df = pd.read_csv(path)"
   ],
   "outputs": [],
   "execution_count": null
  },
  {
   "cell_type": "code",
   "id": "455b85fc-69a3-4bf8-9660-ff391a6c9652",
   "metadata": {},
   "source": [
    "df.head(3)"
   ],
   "outputs": [],
   "execution_count": null
  },
  {
   "cell_type": "code",
   "id": "d8efead2-f57c-4895-bcd6-4730a2ad7a73",
   "metadata": {},
   "source": [
    "# let's convert the Cluster dtype from int64 to categorical since later we want the plots to use a categorical colormap\n",
    "df[\"Cluster\"] = df[\"Cluster\"].astype(\"category\")\n",
    "df.set_index(\"Barcode\", inplace=True)"
   ],
   "outputs": [],
   "execution_count": null
  },
  {
   "cell_type": "code",
   "id": "178addbb-1146-4fb9-830a-a21cb64355b9",
   "metadata": {},
   "source": [
    "sdata[\"square_016um\"].obs.head(3)"
   ],
   "outputs": [],
   "execution_count": null
  },
  {
   "cell_type": "markdown",
   "id": "660ff217-3061-49c9-a67d-435b592dcf62",
   "metadata": {},
   "source": [
    "Let's merge the data."
   ]
  },
  {
   "cell_type": "code",
   "id": "1dea8dc9-81f4-47cc-98da-bd5b5e56efb6",
   "metadata": {},
   "source": [
    "sdata[\"square_016um\"].obs[\"Cluster\"] = df[\"Cluster\"]"
   ],
   "outputs": [],
   "execution_count": null
  },
  {
   "cell_type": "markdown",
   "id": "87cc81e2-29f9-4dbf-87ba-05eb8f2cd3c6",
   "metadata": {},
   "source": [
    "Let's plot the clusters on one of the data crops we used before."
   ]
  },
  {
   "cell_type": "code",
   "id": "adda971f-9a32-43af-b216-10e78fb86731",
   "metadata": {},
   "source": [
    "%%time\n",
    "crop0(sdata).pl.render_images(\"Visium_HD_Mouse_Small_Intestine_full_image\").pl.render_shapes(\n",
    "    \"Visium_HD_Mouse_Small_Intestine_square_016um\", color=\"Cluster\"\n",
    ").pl.show(coordinate_systems=\"Visium_HD_Mouse_Small_Intestine\", title=\"bin_size=016µm\", figsize=(10, 10))"
   ],
   "outputs": [],
   "execution_count": null
  },
  {
   "cell_type": "markdown",
   "id": "1c039272-98f1-4ecc-81da-3b831ac6cfa2",
   "metadata": {},
   "source": [
    "## Interactive visualization with napari"
   ]
  },
  {
   "cell_type": "markdown",
   "id": "b4292efb-2e39-4c3f-9ecc-73078c21e239",
   "metadata": {},
   "source": [
    "### Vector-based visualization"
   ]
  },
  {
   "cell_type": "markdown",
   "id": "e71f3a2d-e285-41e3-99a5-b45ee7154163",
   "metadata": {},
   "source": [
    "To conclude the example here is a screenshot of `napari-spatialdata` used to visualize the data on 16µm bins. Currently `napari`'s performance is not optimized for the visualization of large collections of polygonal data (we are working on improving this together with the `napari` developers); this warning is displayed as a tooltip when the user hovers the mouse above the warning symbols in the bottom left of the window."
   ]
  },
  {
   "attachments": {},
   "cell_type": "markdown",
   "id": "f25fb3e3-84fc-447d-bc22-5ae15a96736a",
   "metadata": {},
   "source": [
    "![image.png](attachments/napari_visium_hd.png)"
   ]
  },
  {
   "cell_type": "markdown",
   "id": "3df81eda-3021-4eff-9436-53be2f6e0876",
   "metadata": {},
   "source": [
    "One way to improve the performance is to convert the polygonal data to simpler vector representations, such as circles or points. This can be achieved via the `to_circles()` and `get_centroids()` spatialdata APIs. But a better approach is to switch to a raster-based visualization. "
   ]
  },
  {
   "cell_type": "markdown",
   "id": "be833933-8331-49e7-a9da-7661b27340be",
   "metadata": {},
   "source": [
    "### Raster-based visualization"
   ]
  },
  {
   "cell_type": "markdown",
   "id": "f29cef67-8bc6-4009-b4ff-ac6b57b9ab16",
   "metadata": {},
   "source": [
    "To overcome the above limitations, you can proceed with the on-demand rasterization approach that we explained above by simply selecting the `rasterized_002um`, `rasterized_008um`, and `rasterized_002um` layers. Here are two animations showing this approach."
   ]
  },
  {
   "cell_type": "raw",
   "id": "0014c87e-eb9e-4c81-b364-78f9099cf526",
   "metadata": {},
   "source": [
    "from napari_spatialdata import Interactive\n",
    "\n",
    "Interactive(sdata)"
   ]
  },
  {
   "cell_type": "markdown",
   "id": "13f2661c-ed9b-4220-8547-8586b9fc2fea",
   "metadata": {},
   "source": [
    "The first shows the equivalence between the vector shapes (circles) and the rasterized version, in this case using the 16µm bins data."
   ]
  },
  {
   "cell_type": "markdown",
   "id": "18288a60-7ad8-4253-8c91-a9a6a8120db1",
   "metadata": {},
   "source": [
    "![image.png](attachments/napari_visium_hd_animation0.gif)"
   ]
  },
  {
   "cell_type": "markdown",
   "id": "b6677e17-ad8b-4724-a539-bc1c7fbede40",
   "metadata": {},
   "source": [
    "The second showcases the perfomane of the viewer on the 2µm bins data, using the `rasterize_bins()` approach."
   ]
  },
  {
   "cell_type": "markdown",
   "id": "60f4d644-6c08-411a-8707-32e5e1a8ca2c",
   "metadata": {},
   "source": [
    "![image.png](attachments/napari_visium_hd_animation1.gif)"
   ]
  },
  {
   "cell_type": "markdown",
   "id": "9925f7ee-6198-4833-b8bd-25f8014bd92e",
   "metadata": {},
   "source": [
    "Below is the code to reproduce the `rasterize_bins()` visualization in `napari-spatialdata`. In the example we show how to use the `viridis` colormap with transparent background, so we can see the bins overlay to images."
   ]
  },
  {
   "cell_type": "markdown",
   "id": "debaeabc-e7c3-4a23-b69d-cdf2a6a9e93c",
   "metadata": {},
   "source": [
    "```python\n",
    "# the 'rasterize_002um' image, and the `new_cmap` variable have been created ealier in the notebook\n",
    "# below we open napari in headless-mode and preload a layer, then we programmatically set a custom colormap\n",
    "\n",
    "from napari.utils.colormaps import Colormap\n",
    "from napari_spatialdata import Interactive\n",
    "\n",
    "napari_cmap = Colormap(new_cmap.colors, \"viridis_zero_transparent\")\n",
    "\n",
    "interactive = Interactive(sdata, headless=True)\n",
    "interactive.add_element(f\"rasterized_002um\", \"global\", view_element_system=True)\n",
    "interactive.get_layer(f\"rasterized_002um\").colormap = napari_cmap\n",
    "interactive.run()\n",
    "```"
   ]
  },
  {
   "cell_type": "markdown",
   "id": "8bfd0999-6844-4b9a-b923-19950d85b3b1",
   "metadata": {},
   "source": [
    "![image.png](attachments/napari_visium_hd_animation2.gif)"
   ]
  },
  {
   "cell_type": "markdown",
   "id": "4e6fcffd-be7f-414e-9191-4b9c316afafd",
   "metadata": {},
   "source": [
    "Finally, below is shown how to change the contrast limits in a layer in `napari`, useful to have better control on the colormap. You need to right click on the slider."
   ]
  },
  {
   "cell_type": "markdown",
   "id": "fe1a61dc-22cc-4a98-a865-5e6e257513c7",
   "metadata": {},
   "source": [
    "![image.png](attachments/change_contrast_limits.gif)"
   ]
  }
 ],
 "metadata": {
  "kernelspec": {
   "display_name": "Python 3 (ipykernel)",
   "language": "python",
   "name": "python3"
  },
  "language_info": {
   "codemirror_mode": {
    "name": "ipython",
    "version": 3
   },
   "file_extension": ".py",
   "mimetype": "text/x-python",
   "name": "python",
   "nbconvert_exporter": "python",
   "pygments_lexer": "ipython3",
   "version": "3.11.0"
  }
 },
 "nbformat": 4,
 "nbformat_minor": 5
}
