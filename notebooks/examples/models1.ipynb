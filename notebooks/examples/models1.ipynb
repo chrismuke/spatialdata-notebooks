{
 "cells": [
  {
   "cell_type": "markdown",
   "id": "d53ca9b3-2274-453c-926a-fdc29db35a1b",
   "metadata": {},
   "source": [
    "# I. Use SpatialData with your data: the SpatialData object."
   ]
  },
  {
   "cell_type": "markdown",
   "id": "1e8108ce-edb1-4440-a2fc-3448e22c7a98",
   "metadata": {},
   "source": [
    "The `spatialdata` framework has three ways to construct `SpatialData` objects:\n",
    "\n",
    " * You can read a `SpatialData` object that has already been saved to `.zarr` in the SpatialData Zarr format ...\n",
    "     * ... from disk.\n",
    "     * ... from the cloud.\n",
    " * You can use the reader functions from `spatialdata-io`.\n",
    " * You can construct a `SpatialData` object from scratch using our Python `spatialdata` APIs ...\n",
    "     * ... using the `SpatialData` class.\n",
    "     * ... by extending it with the Incremental IO APIs.\n",
    "\n",
    "This tutorial is divided into two parts. The first part (this notebook) will discuss all of the above. The second part will discuss how to consuct the basic components of a SpatialData object (images, labels, points, shapes, tables)."
   ]
  },
  {
   "cell_type": "markdown",
   "id": "1e437e1c-3332-4353-b61d-44c2f2835ace",
   "metadata": {},
   "source": [
    "## Reading SpatialData `.zarr` data"
   ]
  },
  {
   "cell_type": "markdown",
   "id": "d14e54cb-d477-423d-bd03-cd3ae0af5041",
   "metadata": {},
   "source": [
    "### The distinction between Zarr, OME-NGFF and the SpatialData format"
   ]
  },
  {
   "cell_type": "markdown",
   "id": "a13579c4-bdff-4f5a-8023-4d302131802d",
   "metadata": {},
   "source": [
    "Let's start with a clarification on the storage format."
   ]
  },
  {
   "cell_type": "markdown",
   "id": "6b23a068-1b8a-4cab-bdd9-de56ffe715aa",
   "metadata": {},
   "source": [
    "[Zarr](https://zarr.dev/) is a storage format to save data on-disk or in the cloud in a performant and interoperable way. A Zarr object saved on-disk or in the cloud is referred to as a *Zarr store*. Effectively a *Zarr store* is not a file, but a folder containing data and metadata. Zarr is optimized to store tensor data (such as large images).\n",
    "\n",
    "[OME-NGFF](https://ngff.openmicroscopy.org/latest/) is a specification that describes how to structure the storage of bioimaging data and metadata. For instance it defines a community-agreed system for storing multiple resolutions for large images, and to divide them into smaller chunks. It also defines how to specify axes, coordinate systems and coordinate transformations to describe the spatial context of the data. OME-NGFF does not require to save the data to Zarr, but the most used implementation of the specification is in Zarr and is called [OME-Zarr](https://link.springer.com/article/10.1007/s00418-023-02209-1).\n",
    "\n",
    "The SpatialData Zarr format, which is described in our [design doc](https://spatialdata.scverse.org/en/latest/design_doc.html), is an extension of the OME-NGFF specification, which makes use of the OME-Zarr, the [AnnData Zarr](https://anndata.readthedocs.io/en/latest/fileformat-prose.html) and the [Parquet](https://parquet.apache.org/) file formats. We need to use these combination of technologies because currently OME-NGFF does not provide all the fundamentals required for storing spatial omics dataset; nevertheless, we try to stay as close as OME-NGFF as possible, and we are contributing to ultimately make spatial omics support available in pure OME-NGFF."
   ]
  },
  {
   "cell_type": "markdown",
   "id": "0d1be619-613c-4144-b627-c10e4fdb80cc",
   "metadata": {},
   "source": [
    "### Compatible `.zarr` stores\n",
    "`spatialdata` can read SpatialData Zarr data. Practically, this is data that has been previously saved using the `spatialdata` APIs in Python. Outside Python there are preliminary efforts to make possible to save SpatialData Zarr objects. For instance in R: https://github.com/HelenaLC/SpatialData (not yet ready!).\n",
    "\n",
    "### Non-compatible `.zarr` stores\n",
    "`spatialdata` cannot read arbitrary Zarr files, for instance the `feature_slice.zarr` file in Visium HD data is not a SpatialData Zarr file (we will see how to read Visium HD data later). `spatialdata` cannot read arbitrary OME-Zarr files (but eventually our aim would be to make every OME-Zarr file compatible)."
   ]
  },
  {
   "cell_type": "markdown",
   "id": "ec045f1f-5a96-4523-9997-015e5464e0fb",
   "metadata": {},
   "source": [
    "#### Example datasets"
   ]
  },
  {
   "cell_type": "markdown",
   "id": "1c3da750-cf52-4a7d-b4a1-d97fbdbfa320",
   "metadata": {},
   "source": [
    "You can download example SpatialData Zarr files [from our documentation](https://spatialdata.scverse.org/en/latest/tutorials/notebooks/datasets/README.html), example below."
   ]
  },
  {
   "cell_type": "markdown",
   "id": "3d169fe4-922d-428c-9fb8-7b5fdb106626",
   "metadata": {},
   "source": [
    "| Technology                                | Sample                                                    | File Size | Filename (spatialdata-sandbox) | download data                                                                                                     | license           |\n",
    "| :---------------------------------------- | :-------------------------------------------------------- | --------: | :----------------------------- | :---------------------------------------------------------------------------------------------- | :---------------- |\n",
    "| Visium HD                                 | Mouse intestin (1)                                       |      1 GB | visium_hd_3.0.0_id             | [.zarr.zip](https://s3.embl.de/spatialdata/spatialdata-sandbox/visium_hd_3.0.0_io.zip)          | CCA               |\n",
    "| Visium                                    | Breast cancer (2)                                        |    1.5 GB | visium_associated_xenium_io    | [.zarr.zip](https://s3.embl.de/spatialdata/spatialdata-sandbox/visium_associated_xenium_io.zip) | CCA               |\n",
    "| Xenium                                    | Breast cancer (2)                                        |    2.8 GB | xenium_rep1_io                 | [.zarr.zip](https://s3.embl.de/spatialdata/spatialdata-sandbox/xenium_rep1_io.zip)              | CCA               |\n",
    "\n",
    "Sources.\n",
    "- (1): From https://www.10xgenomics.com/datasets/visium-hd-cytassist-gene-expression-libraries-of-mouse-intestine\n",
    "- (2): Janesick, A. et al. High resolution mapping of the breast cancer tumor microenvironment using integrated single cell, spatial and in situ analysis of FFPE tissue. bioRxiv 2022.10.06.510405 (2022) doi:10.1101/2022.10.06.510405."
   ]
  },
  {
   "cell_type": "markdown",
   "id": "15b1dd24-a06d-4312-afc3-8b53405399d6",
   "metadata": {},
   "source": [
    "### APIs to read SpatialData `.zarr` data from disk"
   ]
  },
  {
   "cell_type": "markdown",
   "id": "741fc87b-3b81-442a-a596-d053063cfa00",
   "metadata": {},
   "source": [
    "Here is an example of writing an in-memory example SpatialData object to SpatialData and then reading it again."
   ]
  },
  {
   "cell_type": "code",
   "execution_count": 1,
   "id": "12fa0995-02fc-4096-ab36-1786874b7a93",
   "metadata": {},
   "outputs": [
    {
     "name": "stderr",
     "output_type": "stream",
     "text": [
      "/opt/miniconda3/envs/ome311/lib/python3.11/site-packages/dask/dataframe/__init__.py:31: FutureWarning: The legacy Dask DataFrame implementation is deprecated and will be removed in a future version. Set the configuration option `dataframe.query-planning` to `True` or None to enable the new Dask Dataframe implementation and silence this warning.\n",
      "  warnings.warn(\n"
     ]
    },
    {
     "name": "stdout",
     "output_type": "stream",
     "text": [
      "SpatialData object\n",
      "├── Images\n",
      "│     ├── 'blobs_image': DataArray[cyx] (3, 512, 512)\n",
      "│     └── 'blobs_multiscale_image': DataTree[cyx] (3, 512, 512), (3, 256, 256), (3, 128, 128)\n",
      "├── Labels\n",
      "│     ├── 'blobs_labels': DataArray[yx] (512, 512)\n",
      "│     └── 'blobs_multiscale_labels': DataTree[yx] (512, 512), (256, 256), (128, 128)\n",
      "├── Points\n",
      "│     └── 'blobs_points': DataFrame with shape: (<Delayed>, 4) (2D points)\n",
      "├── Shapes\n",
      "│     ├── 'blobs_circles': GeoDataFrame shape: (5, 2) (2D shapes)\n",
      "│     ├── 'blobs_multipolygons': GeoDataFrame shape: (2, 1) (2D shapes)\n",
      "│     └── 'blobs_polygons': GeoDataFrame shape: (5, 1) (2D shapes)\n",
      "└── Tables\n",
      "      └── 'table': AnnData (26, 3)\n",
      "with coordinate systems:\n",
      "    ▸ 'global', with elements:\n",
      "        blobs_image (Images), blobs_multiscale_image (Images), blobs_labels (Labels), blobs_multiscale_labels (Labels), blobs_points (Points), blobs_circles (Shapes), blobs_multipolygons (Shapes), blobs_polygons (Shapes)\n",
      "\n",
      "\u001b[34mINFO    \u001b[0m The Zarr backing store has been changed from \u001b[3;35mNone\u001b[0m the new file path: \u001b[35m/tmp/tmpprm0huw3/\u001b[0m\u001b[95mdata.zarr\u001b[0m           \n"
     ]
    },
    {
     "name": "stderr",
     "output_type": "stream",
     "text": [
      "/opt/miniconda3/envs/ome311/lib/python3.11/site-packages/anndata/_core/anndata.py:401: FutureWarning: The dtype argument is deprecated and will be removed in late 2024.\n",
      "  warnings.warn(\n",
      "/Users/macbook/embl/projects/basel/spatialdata/src/spatialdata/models/models.py:1053: UserWarning: Converting `region_key: region` to categorical dtype.\n",
      "  return convert_region_column_to_categorical(adata)\n",
      "/opt/miniconda3/envs/ome311/lib/python3.11/site-packages/zarr/creation.py:614: UserWarning: ignoring keyword argument 'read_only'\n",
      "  compressor, fill_value = _kwargs_compat(compressor, fill_value, kwargs)\n",
      "/opt/miniconda3/envs/ome311/lib/python3.11/site-packages/zarr/creation.py:614: UserWarning: ignoring keyword argument 'read_only'\n",
      "  compressor, fill_value = _kwargs_compat(compressor, fill_value, kwargs)\n"
     ]
    },
    {
     "name": "stdout",
     "output_type": "stream",
     "text": [
      "SpatialData object, with associated Zarr store: /private/tmp/tmpprm0huw3/data.zarr\n",
      "├── Images\n",
      "│     ├── 'blobs_image': DataArray[cyx] (3, 512, 512)\n",
      "│     └── 'blobs_multiscale_image': DataTree[cyx] (3, 512, 512), (3, 256, 256), (3, 128, 128)\n",
      "├── Labels\n",
      "│     ├── 'blobs_labels': DataArray[yx] (512, 512)\n",
      "│     └── 'blobs_multiscale_labels': DataTree[yx] (512, 512), (256, 256), (128, 128)\n",
      "├── Points\n",
      "│     └── 'blobs_points': DataFrame with shape: (<Delayed>, 4) (2D points)\n",
      "├── Shapes\n",
      "│     ├── 'blobs_circles': GeoDataFrame shape: (5, 2) (2D shapes)\n",
      "│     ├── 'blobs_multipolygons': GeoDataFrame shape: (2, 1) (2D shapes)\n",
      "│     └── 'blobs_polygons': GeoDataFrame shape: (5, 1) (2D shapes)\n",
      "└── Tables\n",
      "      └── 'table': AnnData (26, 3)\n",
      "with coordinate systems:\n",
      "    ▸ 'global', with elements:\n",
      "        blobs_image (Images), blobs_multiscale_image (Images), blobs_labels (Labels), blobs_multiscale_labels (Labels), blobs_points (Points), blobs_circles (Shapes), blobs_multipolygons (Shapes), blobs_polygons (Shapes)\n"
     ]
    }
   ],
   "source": [
    "from pathlib import Path\n",
    "from tempfile import TemporaryDirectory\n",
    "\n",
    "from spatialdata import SpatialData, read_zarr\n",
    "from spatialdata.datasets import blobs\n",
    "\n",
    "sdata = blobs()\n",
    "print(sdata)\n",
    "print()\n",
    "\n",
    "tmpdir = TemporaryDirectory().name\n",
    "f = Path(tmpdir) / \"data.zarr\"\n",
    "sdata.write(f)\n",
    "# 2 equivalent alternatives:\n",
    "from_disk = read_zarr(f)\n",
    "from_disk = SpatialData.read(f)\n",
    "print(from_disk)"
   ]
  },
  {
   "cell_type": "markdown",
   "id": "1e4c0b08-9c0c-4781-a03c-34bd9a0b23a0",
   "metadata": {},
   "source": [
    "### APIs to read SpatialData `.zarr` data from the cloud\n",
    "Remote access of `.zarr` data is currently only partially supported, see more here: https://github.com/scverse/spatialdata/discussions/526."
   ]
  },
  {
   "cell_type": "markdown",
   "id": "a0075a91-36c4-46d4-b6b5-29c74685456c",
   "metadata": {},
   "source": [
    "## Reader functions from `spatialdata-io`"
   ]
  },
  {
   "cell_type": "markdown",
   "id": "85ff3fb8-e57c-4560-9dd4-3236047772c8",
   "metadata": {},
   "source": [
    "If you have raw data from common commercial technologies (e.g. Visium HD or MERSCOPE), you can convert the data easily into the SpatialData Zarr format using the library `spatialdata-io`."
   ]
  },
  {
   "cell_type": "markdown",
   "id": "90c25c0e-c57d-442f-be26-e4d64e792f7b",
   "metadata": {},
   "source": [
    "```python\n",
    "from spatialdata_io import visium_hd\n",
    "import spatialdata as sd\n",
    "\n",
    "# represent the raw data in-memory\n",
    "sdata = visium_hd('path/to/raw/data')\n",
    "\n",
    "# write the data to disk\n",
    "sdata.write(path_write)\n",
    "\n",
    "# read and print the Zarr data\n",
    "sdata = sd.read_zarr(path_write)\n",
    "print(sdata)\n",
    "```"
   ]
  },
  {
   "cell_type": "markdown",
   "id": "22c6aee5-faba-4754-83b4-076c0e93b1f6",
   "metadata": {},
   "source": [
    "The `visium_hd()` function accepts additional parameters, here is for instance an example to load also the CytAssist image and a high resolution microscopy image of the tissue \n",
    "\n",
    "```python\n",
    "sdata = visium_hd(\n",
    "    path_read,\n",
    "    load_all_images=True,\n",
    "    fullres_image_file=\"Visium_HD_Mouse_Small_Intestine_tissue_image.btf\",\n",
    ")\n",
    "```\n",
    "\n",
    "Please consult the [`spatialdata-io` documentation](https://spatialdata.scverse.org/projects/io/en/latest/api.html) for a detailed description of all the reader functions and parameters."
   ]
  },
  {
   "cell_type": "markdown",
   "id": "4844edd2-f9d9-4cac-838a-f0a6cbb3f6ed",
   "metadata": {},
   "source": [
    "**Warning!** It is important to call `.write()` and then read the data again after using functions from `spatialdata-io`. In fact, sometimes the raw data is not stored in a optimized way (e.g. large csv for points and non-chunked, non-multiscale TIFF files for images). In those cases, if you tried to do operations such as viewing the data with `napari-spatialdata` without first having written and re-read the data, `napari` would have extremely poor performance and be unusable."
   ]
  },
  {
   "cell_type": "markdown",
   "id": "5f68261d-81ce-4c7a-a8bc-9d5bdbcbda4a",
   "metadata": {},
   "source": [
    "## Construct a `SpatialData` object from scratch."
   ]
  },
  {
   "cell_type": "markdown",
   "id": "8336716b-6aa1-4d11-9095-4fc4ef85b011",
   "metadata": {},
   "source": [
    "The readers from `spatialdata-io` offer a good starting point, but sometimes you need a higher degree of customization and composability. In such cases you can create new `SpatialData` objects from scratch, or extend/modify existing ones.\n",
    "\n",
    "Tip: if you need some code to get started you can look at the source code for the readers implemented in [spatialdata-io](https://github.com/scverse/spatialdata-io/tree/main/src/spatialdata_io/readers)."
   ]
  },
  {
   "cell_type": "markdown",
   "id": "17fed37a-b1b3-405b-8345-7030fbcd5fa2",
   "metadata": {},
   "source": [
    "### The `SpatialData` class"
   ]
  },
  {
   "cell_type": "markdown",
   "id": "fbaaac32-9156-495c-91c4-d752f21f8493",
   "metadata": {},
   "source": [
    "Let's see how to use the `SpatialData` class to construct a `SpatialData` object. For the moment let's assume to have a set of images, labels, points, shapes and tables: let's fetch them out from another `SpatialData` object. Later we will show how to construct them from scratch."
   ]
  },
  {
   "cell_type": "code",
   "execution_count": 2,
   "id": "78cfafc4-007f-433c-b420-dfdef11c3ca5",
   "metadata": {},
   "outputs": [
    {
     "data": {
      "text/plain": [
       "SpatialData object, with associated Zarr store: /private/tmp/tmpprm0huw3/data.zarr\n",
       "├── Images\n",
       "│     ├── 'blobs_image': DataArray[cyx] (3, 512, 512)\n",
       "│     └── 'blobs_multiscale_image': DataTree[cyx] (3, 512, 512), (3, 256, 256), (3, 128, 128)\n",
       "├── Labels\n",
       "│     ├── 'blobs_labels': DataArray[yx] (512, 512)\n",
       "│     └── 'blobs_multiscale_labels': DataTree[yx] (512, 512), (256, 256), (128, 128)\n",
       "├── Points\n",
       "│     └── 'blobs_points': DataFrame with shape: (<Delayed>, 4) (2D points)\n",
       "├── Shapes\n",
       "│     ├── 'blobs_circles': GeoDataFrame shape: (5, 2) (2D shapes)\n",
       "│     ├── 'blobs_multipolygons': GeoDataFrame shape: (2, 1) (2D shapes)\n",
       "│     └── 'blobs_polygons': GeoDataFrame shape: (5, 1) (2D shapes)\n",
       "└── Tables\n",
       "      └── 'table': AnnData (26, 3)\n",
       "with coordinate systems:\n",
       "    ▸ 'global', with elements:\n",
       "        blobs_image (Images), blobs_multiscale_image (Images), blobs_labels (Labels), blobs_multiscale_labels (Labels), blobs_points (Points), blobs_circles (Shapes), blobs_multipolygons (Shapes), blobs_polygons (Shapes)"
      ]
     },
     "execution_count": 2,
     "metadata": {},
     "output_type": "execute_result"
    }
   ],
   "source": [
    "sdata"
   ]
  },
  {
   "cell_type": "markdown",
   "id": "f13d2556-2c90-4a0a-9bd0-8c1c3e7853e1",
   "metadata": {},
   "source": [
    "You can use any name for the elements, as long as they are unique. You can repeat the same element values, like for the points below (on-disk, they will be written in separate objects)."
   ]
  },
  {
   "cell_type": "code",
   "execution_count": 3,
   "id": "254561a7-d55b-42ff-8a60-42ae7e8ae097",
   "metadata": {},
   "outputs": [],
   "source": [
    "my_images = {\"you\": sdata[\"blobs_image\"]}\n",
    "my_labels = {\"can\": sdata[\"blobs_labels\"], \"use\": sdata[\"blobs_multiscale_labels\"]}\n",
    "my_points = {\"any\": sdata[\"blobs_points\"], \"unique\": sdata[\"blobs_points\"]}\n",
    "my_shapes = {\"name\": sdata[\"blobs_circles\"]}\n",
    "my_tables = {\"here\": sdata[\"table\"]}"
   ]
  },
  {
   "cell_type": "markdown",
   "id": "20216b22-bfdc-4752-b6fb-a7c509e577c8",
   "metadata": {},
   "source": [
    "The `SpatialData` constructor takes as input a dict for each element type. We can also omit some dicts (or even all of them)."
   ]
  },
  {
   "cell_type": "code",
   "execution_count": 4,
   "id": "13986add-7c83-4232-917a-ad8a6009683f",
   "metadata": {},
   "outputs": [
    {
     "data": {
      "text/plain": [
       "SpatialData object\n",
       "with coordinate systems:"
      ]
     },
     "execution_count": 4,
     "metadata": {},
     "output_type": "execute_result"
    }
   ],
   "source": [
    "# empty object\n",
    "SpatialData()"
   ]
  },
  {
   "cell_type": "code",
   "execution_count": 5,
   "id": "6562deab-931e-4a88-b32d-46fd0949442f",
   "metadata": {},
   "outputs": [
    {
     "data": {
      "text/plain": [
       "SpatialData object\n",
       "└── Points\n",
       "      ├── 'any': DataFrame with shape: (<Delayed>, 4) (2D points)\n",
       "      └── 'unique': DataFrame with shape: (<Delayed>, 4) (2D points)\n",
       "with coordinate systems:\n",
       "    ▸ 'global', with elements:\n",
       "        any (Points), unique (Points)"
      ]
     },
     "execution_count": 5,
     "metadata": {},
     "output_type": "execute_result"
    }
   ],
   "source": [
    "# just points\n",
    "SpatialData(points=my_points)"
   ]
  },
  {
   "cell_type": "code",
   "execution_count": 6,
   "id": "c38a78c1-51ba-4fae-addc-5dc1f40db1e0",
   "metadata": {},
   "outputs": [
    {
     "name": "stderr",
     "output_type": "stream",
     "text": [
      "/Users/macbook/embl/projects/basel/spatialdata/src/spatialdata/_core/spatialdata.py:185: UserWarning: The table is annotating 'blobs_labels', which is not present in the SpatialData object.\n",
      "  self.validate_table_in_spatialdata(v)\n"
     ]
    },
    {
     "data": {
      "text/plain": [
       "SpatialData object\n",
       "├── Images\n",
       "│     └── 'you': DataArray[cyx] (3, 512, 512)\n",
       "├── Labels\n",
       "│     ├── 'can': DataArray[yx] (512, 512)\n",
       "│     └── 'use': DataTree[yx] (512, 512), (256, 256), (128, 128)\n",
       "├── Points\n",
       "│     ├── 'any': DataFrame with shape: (<Delayed>, 4) (2D points)\n",
       "│     └── 'unique': DataFrame with shape: (<Delayed>, 4) (2D points)\n",
       "├── Shapes\n",
       "│     └── 'name': GeoDataFrame shape: (5, 2) (2D shapes)\n",
       "└── Tables\n",
       "      └── 'here': AnnData (26, 3)\n",
       "with coordinate systems:\n",
       "    ▸ 'global', with elements:\n",
       "        you (Images), can (Labels), use (Labels), any (Points), unique (Points), name (Shapes)"
      ]
     },
     "execution_count": 6,
     "metadata": {},
     "output_type": "execute_result"
    }
   ],
   "source": [
    "# full object\n",
    "SpatialData(images=my_images, labels=my_labels, points=my_points, shapes=my_shapes, tables=my_tables)"
   ]
  },
  {
   "cell_type": "markdown",
   "id": "9f384a44-54f7-4771-9c59-b9ec83aeb790",
   "metadata": {},
   "source": [
    "Here is a shortcut to create the object from a single dict."
   ]
  },
  {
   "cell_type": "code",
   "execution_count": 7,
   "id": "5036ac48-8309-42d2-b7cd-79274551ff76",
   "metadata": {},
   "outputs": [
    {
     "name": "stdout",
     "output_type": "stream",
     "text": [
      "dict_keys(['you', 'can', 'use', 'any', 'unique', 'name', 'here'])\n",
      "SpatialData object\n",
      "├── Images\n",
      "│     └── 'you': DataArray[cyx] (3, 512, 512)\n",
      "├── Labels\n",
      "│     ├── 'can': DataArray[yx] (512, 512)\n",
      "│     └── 'use': DataTree[yx] (512, 512), (256, 256), (128, 128)\n",
      "├── Points\n",
      "│     ├── 'any': DataFrame with shape: (<Delayed>, 4) (2D points)\n",
      "│     └── 'unique': DataFrame with shape: (<Delayed>, 4) (2D points)\n",
      "├── Shapes\n",
      "│     └── 'name': GeoDataFrame shape: (5, 2) (2D shapes)\n",
      "└── Tables\n",
      "      └── 'here': AnnData (26, 3)\n",
      "with coordinate systems:\n",
      "    ▸ 'global', with elements:\n",
      "        you (Images), can (Labels), use (Labels), any (Points), unique (Points), name (Shapes)\n"
     ]
    },
    {
     "name": "stderr",
     "output_type": "stream",
     "text": [
      "/tmp/ipykernel_52739/2851111671.py:4: DeprecationWarning: This method is deprecated and will be removed in a future release. Use \"SpatialData.init_from_elements()\" instead. For the momment, such methods will be automatically called.\n",
      "  sdata = SpatialData.from_elements_dict(merged_dict)\n",
      "/Users/macbook/embl/projects/basel/spatialdata/src/spatialdata/_core/spatialdata.py:185: UserWarning: The table is annotating 'blobs_labels', which is not present in the SpatialData object.\n",
      "  self.validate_table_in_spatialdata(v)\n"
     ]
    }
   ],
   "source": [
    "merged_dict = my_images | my_labels | my_points | my_shapes | my_tables\n",
    "print(merged_dict.keys())\n",
    "\n",
    "sdata = SpatialData.from_elements_dict(merged_dict)\n",
    "print(sdata)"
   ]
  },
  {
   "cell_type": "markdown",
   "id": "d78e4cda-6cef-438d-9b02-5e77aa2e365b",
   "metadata": {},
   "source": [
    "You can also add or remove additional elements (as long as the names are unique). "
   ]
  },
  {
   "cell_type": "code",
   "execution_count": 8,
   "id": "4c5f1e0a-0bb2-4c1b-806f-52fff1af8285",
   "metadata": {},
   "outputs": [
    {
     "name": "stdout",
     "output_type": "stream",
     "text": [
      "['name']\n",
      "['name', 'another_shape']\n",
      "['name', 'another_shape', 'yet_another_shape']\n"
     ]
    }
   ],
   "source": [
    "# shapes before\n",
    "print(list(sdata.shapes.keys()))\n",
    "\n",
    "# let's add a shallow copy\n",
    "element = sdata[\"name\"]\n",
    "sdata[\"another_shape\"] = element\n",
    "print(list(sdata.shapes.keys()))\n",
    "\n",
    "# let's add a deep copy (we provide APIs for deepcopying elements)\n",
    "from spatialdata import deepcopy\n",
    "\n",
    "element2 = deepcopy(sdata[\"name\"])\n",
    "sdata[\"yet_another_shape\"] = element2\n",
    "print(list(sdata.shapes.keys()))"
   ]
  },
  {
   "cell_type": "code",
   "execution_count": 9,
   "id": "dd5e2a28-8914-48d6-b4e2-35b1ac780eff",
   "metadata": {},
   "outputs": [
    {
     "name": "stderr",
     "output_type": "stream",
     "text": [
      "/Users/macbook/embl/projects/basel/spatialdata/src/spatialdata/_core/_elements.py:105: UserWarning: Key `name` already exists. Overwriting it in-memory.\n",
      "  self._check_key(key, self.keys(), self._shared_keys)\n"
     ]
    }
   ],
   "source": [
    "# if you use unique names here, it will overwrite the previous one (as long as the element is of the same element type)\n",
    "sdata[\"name\"] = element\n",
    "\n",
    "import pytest\n",
    "\n",
    "with pytest.raises(KeyError, match=\"'Key `name` is not unique, or another case-variant of it exists.\"):\n",
    "    sdata.images[\"name\"] = sdata[\"you\"]"
   ]
  },
  {
   "cell_type": "markdown",
   "id": "8b196b71-f388-4ddb-96ce-dfe27a89a037",
   "metadata": {},
   "source": [
    "You can also delete some elements form the in-memory object, or even subset the entire object to a list of elements. Let's see this:"
   ]
  },
  {
   "cell_type": "code",
   "execution_count": 10,
   "id": "96fc4081-6fb3-433c-a96a-8695ac3a3a7d",
   "metadata": {},
   "outputs": [],
   "source": [
    "del sdata[\"can\"]"
   ]
  },
  {
   "cell_type": "code",
   "execution_count": 11,
   "id": "930318f0-824a-438b-9305-f72a8988f77b",
   "metadata": {},
   "outputs": [],
   "source": [
    "assert \"can\" not in sdata"
   ]
  },
  {
   "cell_type": "code",
   "execution_count": 12,
   "id": "c4b0fa7e-313d-43d1-b952-14630c3deaa5",
   "metadata": {},
   "outputs": [
    {
     "data": {
      "text/plain": [
       "SpatialData object\n",
       "├── Images\n",
       "│     └── 'you': DataArray[cyx] (3, 512, 512)\n",
       "└── Shapes\n",
       "      └── 'yet_another_shape': GeoDataFrame shape: (5, 2) (2D shapes)\n",
       "with coordinate systems:\n",
       "    ▸ 'global', with elements:\n",
       "        you (Images), yet_another_shape (Shapes)"
      ]
     },
     "execution_count": 12,
     "metadata": {},
     "output_type": "execute_result"
    }
   ],
   "source": [
    "sdata = sdata.subset([\"you\", \"yet_another_shape\"])\n",
    "sdata"
   ]
  },
  {
   "cell_type": "markdown",
   "id": "01b5af10-4c1a-4b4c-bbfe-6460f3efc0fc",
   "metadata": {},
   "source": [
    "Finally, let's write the `SpatialData` object to disk. If you wish (for instance if you want to free the memory and lazy load the elements), you can read it again (note: currenlty not all the elements support lazy loading, this will be discussed in the second part of this tutorial)."
   ]
  },
  {
   "cell_type": "code",
   "execution_count": 13,
   "id": "7b0f5834-5297-4527-91d1-4a0f5d2d155d",
   "metadata": {},
   "outputs": [
    {
     "name": "stdout",
     "output_type": "stream",
     "text": [
      "\u001b[34mINFO    \u001b[0m The Zarr backing store has been changed from \u001b[3;35mNone\u001b[0m the new file path: \u001b[35m/tmp/tmpprm0huw3/\u001b[0m\u001b[95mdata.zarr\u001b[0m           \n",
      "SpatialData object, with associated Zarr store: /private/tmp/tmpprm0huw3/data.zarr\n",
      "├── Images\n",
      "│     └── 'you': DataArray[cyx] (3, 512, 512)\n",
      "└── Shapes\n",
      "      └── 'yet_another_shape': GeoDataFrame shape: (5, 2) (2D shapes)\n",
      "with coordinate systems:\n",
      "    ▸ 'global', with elements:\n",
      "        you (Images), yet_another_shape (Shapes)\n"
     ]
    },
    {
     "name": "stderr",
     "output_type": "stream",
     "text": [
      "/opt/miniconda3/envs/ome311/lib/python3.11/site-packages/zarr/creation.py:614: UserWarning: ignoring keyword argument 'read_only'\n",
      "  compressor, fill_value = _kwargs_compat(compressor, fill_value, kwargs)\n"
     ]
    }
   ],
   "source": [
    "f = Path(tmpdir) / \"data.zarr\"\n",
    "sdata.write(f, overwrite=True)\n",
    "read_again = read_zarr(f)\n",
    "print(read_again)"
   ]
  },
  {
   "cell_type": "markdown",
   "id": "5d9fe18c-ccb2-4e40-9768-c76478c0beea",
   "metadata": {},
   "source": [
    "### Extending existing objects with the incremental IO APIs\n",
    "\n",
    "Above, we showed that using the `sdata['name'] = element` syntax, we can modify an object in-memory after having created it. This is possible also on-disk, as we will show in this section.\n",
    "\n",
    "Note: these functionalities are, at the time of writing, not released yet in `PyPi`; nevertheless, the implementation is already fully available at https://github.com/scverse/spatialdata/pull/501.\n",
    "\n",
    "#### Associated Zarr store\n",
    "\n",
    "When we create a `SpatialData` in-memory, it has no associated Zarr path. Instead, when we write an object to disk, or when we read it, the Zarr store path will be set in the element."
   ]
  },
  {
   "cell_type": "code",
   "execution_count": 14,
   "id": "f9c861a2-a298-45b4-acd3-37dda852b1c0",
   "metadata": {},
   "outputs": [
    {
     "data": {
      "text/plain": [
       "True"
      ]
     },
     "execution_count": 14,
     "metadata": {},
     "output_type": "execute_result"
    }
   ],
   "source": [
    "SpatialData().path is None"
   ]
  },
  {
   "cell_type": "code",
   "execution_count": 15,
   "id": "fa791c2e-a43d-4669-a817-d527609404d5",
   "metadata": {},
   "outputs": [
    {
     "data": {
      "text/plain": [
       "PosixPath('/tmp/tmpprm0huw3/data.zarr')"
      ]
     },
     "execution_count": 15,
     "metadata": {},
     "output_type": "execute_result"
    }
   ],
   "source": [
    "# sdata has been previously written to disk\n",
    "sdata.path"
   ]
  },
  {
   "cell_type": "code",
   "execution_count": 16,
   "id": "42a2129a-7eed-4145-b7dd-e033819b7955",
   "metadata": {},
   "outputs": [
    {
     "data": {
      "text/plain": [
       "PosixPath('/tmp/tmpprm0huw3/data.zarr')"
      ]
     },
     "execution_count": 16,
     "metadata": {},
     "output_type": "execute_result"
    }
   ],
   "source": [
    "# read_again has been previously read from disk\n",
    "read_again.path"
   ]
  },
  {
   "cell_type": "markdown",
   "id": "074eeca2-5666-4b48-9868-79b1e5983eb7",
   "metadata": {},
   "source": [
    "#### Removing elements"
   ]
  },
  {
   "cell_type": "markdown",
   "id": "55ed7fae-d464-4fb7-be76-760b3a3b441a",
   "metadata": {},
   "source": [
    "It is possible to remove existing elements, or write new elements, into this Zarr path. Let's remove one from disk."
   ]
  },
  {
   "cell_type": "code",
   "execution_count": 17,
   "id": "928d49d7-c69e-4ce7-b4b8-998b6e8edf46",
   "metadata": {},
   "outputs": [],
   "source": [
    "sdata.delete_element_from_disk(\"yet_another_shape\")"
   ]
  },
  {
   "cell_type": "markdown",
   "id": "26d6dd71-43ee-48e8-b959-242c040ad6ca",
   "metadata": {},
   "source": [
    "As you can see, the element is still available in-memory, but not on-disk."
   ]
  },
  {
   "cell_type": "code",
   "execution_count": 18,
   "id": "d3f3ef3b-c9a0-4741-a971-7f7f560767d1",
   "metadata": {},
   "outputs": [
    {
     "data": {
      "text/html": [
       "<div>\n",
       "<style scoped>\n",
       "    .dataframe tbody tr th:only-of-type {\n",
       "        vertical-align: middle;\n",
       "    }\n",
       "\n",
       "    .dataframe tbody tr th {\n",
       "        vertical-align: top;\n",
       "    }\n",
       "\n",
       "    .dataframe thead th {\n",
       "        text-align: right;\n",
       "    }\n",
       "</style>\n",
       "<table border=\"1\" class=\"dataframe\">\n",
       "  <thead>\n",
       "    <tr style=\"text-align: right;\">\n",
       "      <th></th>\n",
       "      <th>geometry</th>\n",
       "      <th>radius</th>\n",
       "    </tr>\n",
       "  </thead>\n",
       "  <tbody>\n",
       "    <tr>\n",
       "      <th>0</th>\n",
       "      <td>POINT (291.062 197.065)</td>\n",
       "      <td>51</td>\n",
       "    </tr>\n",
       "    <tr>\n",
       "      <th>1</th>\n",
       "      <td>POINT (259.026 371.319)</td>\n",
       "      <td>51</td>\n",
       "    </tr>\n",
       "    <tr>\n",
       "      <th>2</th>\n",
       "      <td>POINT (194.973 204.414)</td>\n",
       "      <td>51</td>\n",
       "    </tr>\n",
       "    <tr>\n",
       "      <th>3</th>\n",
       "      <td>POINT (149.926 188.623)</td>\n",
       "      <td>51</td>\n",
       "    </tr>\n",
       "    <tr>\n",
       "      <th>4</th>\n",
       "      <td>POINT (369.422 258.9)</td>\n",
       "      <td>51</td>\n",
       "    </tr>\n",
       "  </tbody>\n",
       "</table>\n",
       "</div>"
      ],
      "text/plain": [
       "                  geometry  radius\n",
       "0  POINT (291.062 197.065)      51\n",
       "1  POINT (259.026 371.319)      51\n",
       "2  POINT (194.973 204.414)      51\n",
       "3  POINT (149.926 188.623)      51\n",
       "4    POINT (369.422 258.9)      51"
      ]
     },
     "execution_count": 18,
     "metadata": {},
     "output_type": "execute_result"
    }
   ],
   "source": [
    "sdata[\"yet_another_shape\"]"
   ]
  },
  {
   "cell_type": "code",
   "execution_count": 19,
   "id": "0c9e4b46-a645-40c3-abf8-c22277b6e2f5",
   "metadata": {},
   "outputs": [
    {
     "data": {
      "text/plain": [
       "['images/you']"
      ]
     },
     "execution_count": 19,
     "metadata": {},
     "output_type": "execute_result"
    }
   ],
   "source": [
    "sdata.elements_paths_on_disk()"
   ]
  },
  {
   "cell_type": "markdown",
   "id": "90e5760f-291d-47d2-b66a-24ac4e806ca4",
   "metadata": {},
   "source": [
    "Let's now also delete it in-memory."
   ]
  },
  {
   "cell_type": "code",
   "execution_count": 20,
   "id": "223c311a-d40b-4b22-a776-4d4f266943cc",
   "metadata": {},
   "outputs": [],
   "source": [
    "del sdata[\"yet_another_shape\"]"
   ]
  },
  {
   "cell_type": "markdown",
   "id": "29d51a66-4c5e-4209-9b36-da8df786d247",
   "metadata": {},
   "source": [
    "#### Adding elements"
   ]
  },
  {
   "cell_type": "markdown",
   "id": "64a5388b-9e2c-4636-a07b-955abc405a00",
   "metadata": {},
   "source": [
    "Similarly we can add new elements."
   ]
  },
  {
   "cell_type": "code",
   "execution_count": 21,
   "id": "f2fd7e7c-bd4a-4871-b6ef-dda176482f99",
   "metadata": {},
   "outputs": [],
   "source": [
    "new_image = sdata[\"you\"]\n",
    "sdata[\"new_image\"] = new_image\n",
    "sdata.write_element(\"new_image\")"
   ]
  },
  {
   "cell_type": "code",
   "execution_count": 22,
   "id": "8268df92-eac1-4a3b-879e-38a9b3bb3436",
   "metadata": {},
   "outputs": [
    {
     "data": {
      "text/plain": [
       "['images/new_image', 'images/you']"
      ]
     },
     "execution_count": 22,
     "metadata": {},
     "output_type": "execute_result"
    }
   ],
   "source": [
    "sdata.elements_paths_on_disk()"
   ]
  },
  {
   "cell_type": "markdown",
   "id": "24c2606c-fbb7-48f5-906e-11cae6983f05",
   "metadata": {},
   "source": [
    "In practice, these functions allows workflows in which first simpler `SpatialData` objects are created, and then gradually they are enriched with new elements, for instance new aligned microscopy images or new segmentation masks."
   ]
  },
  {
   "cell_type": "markdown",
   "id": "799ea3af-8359-4139-9ff1-b6caa0386b49",
   "metadata": {},
   "source": [
    "#### Modifying the metadata"
   ]
  },
  {
   "cell_type": "markdown",
   "id": "50ecaaa3-1113-467d-a3d5-9b7170b12bad",
   "metadata": {},
   "source": [
    "Similarly as with adding new elements, it is possible to update the metadata of existing elements, such as the coordinate transformations, using the following APIs (please consult the documentation for details on how to use them):\n",
    "- `write_transformations()`\n",
    "- `write_metadata()`\n",
    "- `write_consolidated_metadata()`.\n",
    "\n",
    "These functions allow workflows that are convenient when registering large datasets, as shown in the notebook \"Use landmark annotations to align multiple -omics layers\": you can first save large images to Zarr, load them efficiently, and then try multiple coordinate transformations to perform registration. When you are satisfied with the result you can actually modify the transformation metadata on-disk, without having to modify the large image data."
   ]
  }
 ],
 "metadata": {
  "kernelspec": {
   "display_name": "Python 3 (ipykernel)",
   "language": "python",
   "name": "python3"
  },
  "language_info": {
   "codemirror_mode": {
    "name": "ipython",
    "version": 3
   },
   "file_extension": ".py",
   "mimetype": "text/x-python",
   "name": "python",
   "nbconvert_exporter": "python",
   "pygments_lexer": "ipython3",
   "version": "3.11.0"
  }
 },
 "nbformat": 4,
 "nbformat_minor": 5
}
